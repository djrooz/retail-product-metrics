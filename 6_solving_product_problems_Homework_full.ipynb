{
 "cells": [
  {
   "cell_type": "markdown",
   "metadata": {
    "id": "mXWcbp0pv-ld"
   },
   "source": [
    "# Проект урока 6. Решение продуктовых задач\n",
    "#  «Анализ данных о транзакциях»"
   ]
  },
  {
   "cell_type": "markdown",
   "metadata": {
    "id": "hZZqubMav-lk"
   },
   "source": [
    "Представьте, что вы — аналитик данных в ритейле. Маркетинговый отдел попросил помочь решить несколько задач: нужно разобраться в поведении пользователей, проанализировать транзакции и выявить аномальный рост или проблемы, если они есть. Этот проект разделен на части, в каждой из них вы будете работать с разными наборами данных."
   ]
  },
  {
   "cell_type": "markdown",
   "metadata": {
    "id": "C0vaHMM-v-lm"
   },
   "source": [
    "# Часть 1"
   ]
  },
  {
   "cell_type": "markdown",
   "metadata": {
    "id": "iqIGumK_v-lo"
   },
   "source": [
    "## Шаг 1"
   ]
  },
  {
   "cell_type": "markdown",
   "metadata": {
    "id": "4p2S6RP1v-lp"
   },
   "source": [
    "В файле `6_data.zip` имеются следующие данные о транзакциях:\n",
    "\n",
    "- InvoiceNo — номер заказа  \n",
    "- StockCode — код товара  \n",
    "- Description — описание товара  \n",
    "- Quantity — количество единиц товара, добавленных в заказ  \n",
    "- InvoiceDate — дата транзакции   \n",
    "- UnitPrice — цена за единицу товара  \n",
    "- CustomerID — id клиента  \n",
    "- Country — страна, где проживает клиент\n",
    "\n",
    "Каждая строка — это отдельная транзакция (т.е. добавление одного товара в корзину или его удаление, если это запись об отмененной транзакции). В данных нет кода для каждой транзакции, только для товара и для заказа. В одном заказе может быть несколько транзакций. Разные товары могут быть в разных заказах. Неотмененные транзакции считаются реализованными (т.е. эти товары были куплены)."
   ]
  },
  {
   "cell_type": "markdown",
   "metadata": {
    "id": "yq2i8bGFv-lq"
   },
   "source": [
    "Вы можете решать задания тем способом, который считаете наиболее удобным или оптимальным. А для того, чтобы лучше понять задание, следуйте по шагам выполнения. Бывает, что их можно выполнить в одну строчку, применяя методы друг за другом. А если выполняете шаги отдельно, не забудьте сохранить результат в переменную, чтобы в следующем шаге работать именно с ней.\n",
    "\n",
    "В ноутбуке место для вашего решения обозначено комментарием `# Ваш код здесь`, но вы можете писать код где вам удобно, добавлять или удалять ячейки с кодом или текстом по вашему усмотрению.\n",
    "\n",
    "Кроме того можно посмотреть подсказки, кликнув на строчку `► Нажмите сюда, чтобы увидеть подсказку`. Также не забывайте о наличии конспектов и возможности задать вопрос в Discord, ссылка на нужный тред есть на странице каждого шага в LMS."
   ]
  },
  {
   "cell_type": "markdown",
   "metadata": {
    "id": "Mqh_0XMMv-ls"
   },
   "source": [
    "## Шаг 2"
   ]
  },
  {
   "cell_type": "markdown",
   "metadata": {
    "id": "gTwgAz6Cv-lt"
   },
   "source": [
    "Прочитайте данные с кодировкой `ISO-8859-1`, запишите полученный датафрейм в `retail`. **Проверьте, встречаются ли в данных повторяющиеся наблюдения, и в качестве ответа укажите их количество.** Если они есть, то удалите их из `retail` — дубликаты негативно влияют на точность анализа данных"
   ]
  },
  {
   "cell_type": "markdown",
   "metadata": {
    "id": "LH3OYfQPv-lu"
   },
   "source": [
    "Шаги выполнения:  \n",
    "1. Импортируйте библиотеку pandas"
   ]
  },
  {
   "cell_type": "markdown",
   "metadata": {
    "id": "obC0uk8Vv-lv"
   },
   "source": [
    "<details>\n",
    "<summary>&#9658; Нажмите сюда, чтобы увидеть подсказку</summary>\n",
    "  <p>\n",
    "      \n",
    "Для импорта библиотеки напишите\n",
    "```python\n",
    "import library as shortcut\n",
    "```\n",
    "где вместо `library` подставьте название библиотеки, а вместо `shortcut` — её общераспространённое сокращённое название.\n",
    "</p>\n",
    "</details>"
   ]
  },
  {
   "cell_type": "code",
   "execution_count": 1,
   "metadata": {
    "id": "ahS6rSDCv-lw"
   },
   "outputs": [],
   "source": [
    "# Ваш код здесь\n",
    "\n"
   ]
  },
  {
   "cell_type": "markdown",
   "metadata": {
    "id": "Jqv7vnTqv-ly"
   },
   "source": [
    "2. Загрузите архив с csv файлом к уроку в свою папку в JupyterНub\n",
    "3. Прочитайте этот датасет с кодировкой ISO-8859-1, результат сохранив в переменную `retail`"
   ]
  },
  {
   "cell_type": "markdown",
   "metadata": {
    "id": "AlhuS2Oqv-lz"
   },
   "source": [
    "<details>\n",
    "<summary>&#9658; Нажмите сюда, чтобы увидеть подсказку</summary>\n",
    "  <p>\n",
    "      \n",
    "Данные находятся в csv файле в архиве формата ZIP. Для их загрузки воспользуемся функцией `pd.read_csv()`, передав в качестве аргумента путь к файлу и задав параметры `encoding` и `compression`. Например,\n",
    "```python\n",
    "df = pd.read_csv('data.gzip', compression='gzip', encoding='utf-8')\n",
    "```\n",
    "считает файл csv в архиве `data.gzip`, хранящемся в той же папке, что и юпитер ноутбук, в котором вы сейчас работаете. Функция учтет, что файл в архиве с форматом `gzip` и имеет кодировку `utf-8`.\n",
    "</p>\n",
    "</details>"
   ]
  },
  {
   "cell_type": "code",
   "execution_count": 2,
   "metadata": {
    "id": "cYwI5rvOv-l0"
   },
   "outputs": [],
   "source": [
    "# Ваш код здесь\n",
    "\n"
   ]
  },
  {
   "cell_type": "markdown",
   "metadata": {
    "id": "q6zDfsUIv-l0"
   },
   "source": [
    "4. Посмотрите на содержимое датафрейма, проверьте его размер"
   ]
  },
  {
   "cell_type": "markdown",
   "metadata": {
    "id": "CnxvR8NZv-l0"
   },
   "source": [
    "<details>\n",
    "<summary>&#9658; Нажмите сюда, чтобы увидеть подсказку</summary>\n",
    "  <p>\n",
    "      \n",
    "**Как посмотреть на содержимое датафрейма?** Используйте метод `head()`\n",
    "\n",
    "**Как проверить размер датафрейма?** Используйте атрибут `shape`, чтобы узнать количество строк и столбцов. Этот атрибут возвращает кортеж, первый элемент которого указывает на количество строк, а второй — на количество столбцов в датафрейме.  \n",
    "      \n",
    "**Как обратиться к атрибуту датафрейма?** Для этого нужно написать переменную, где хранится датафрейм, поставить точку и написать название атрибута (без скобок!). Например:\n",
    "```python\n",
    "df.some_attribute\n",
    "```\n",
    "так мы обратимся к атрибуту `some_attribute` у датафрейма в переменной `df`\n",
    "      \n",
    "**Как использовать метод?** Например применим метод `some_method()` к датафрейму `df`:\n",
    "```python\n",
    "df.some_method()\n",
    "```\n",
    "</p>\n",
    "</details>"
   ]
  },
  {
   "cell_type": "code",
   "execution_count": 3,
   "metadata": {
    "id": "e8qGv0Bgv-l1"
   },
   "outputs": [],
   "source": [
    "# Ваш код здесь\n",
    "\n"
   ]
  },
  {
   "cell_type": "markdown",
   "metadata": {
    "id": "d9-HFNWrv-l1"
   },
   "source": [
    "5. Отберите в датафрейме только повторяющиеся наблюдения (дубликаты)"
   ]
  },
  {
   "cell_type": "markdown",
   "metadata": {
    "id": "NyeX4kddv-l2"
   },
   "source": [
    "<details>\n",
    "<summary>&#9658; Нажмите сюда, чтобы увидеть подсказку</summary>\n",
    "  <p>\n",
    "\n",
    "**Чтобы отобрать только нужные записи,** используйте аксессор `loc[]`, внутри которого примените к датафрейму метод `duplicated()`. Этот метод определяет, является ли строчка дубликатом другой строки или нет.\n",
    "\n",
    "**Как применить метод?** Например применим метод `some_method()` к датафрейму `df`:\n",
    "```python\n",
    "df.some_method()\n",
    "```\n",
    "      \n",
    "**Как использовать аксессор?** Например, код\n",
    "```python\n",
    "df.loc[df.some_method()]\n",
    "```\n",
    "вернет только те строки датафрейма `df`, где в результате применения метода `some_method()` будет `True`.\n",
    "</p>\n",
    "</details>"
   ]
  },
  {
   "cell_type": "code",
   "execution_count": 4,
   "metadata": {
    "id": "bL_27txFv-l2"
   },
   "outputs": [],
   "source": [
    "# Ваш код здесь\n",
    "\n"
   ]
  },
  {
   "cell_type": "markdown",
   "metadata": {
    "id": "0WXld6HWv-l2"
   },
   "source": [
    "6. Определите количество записей в получившемся датафрейме с дубликатами"
   ]
  },
  {
   "cell_type": "markdown",
   "metadata": {
    "id": "vLaJ0VKVv-l2"
   },
   "source": [
    "<details>\n",
    "<summary>&#9658; Нажмите сюда, чтобы увидеть подсказку</summary>\n",
    "  <p>\n",
    "      \n",
    "Используйте атрибут `shape`, чтобы узнать количество строк. Этот атрибут возвращает кортеж, первый элемент которого указывает на количество строк, а второй — на количество столбцов в датафрейме.  \n",
    "      \n",
    "**Как обратиться к атрибуту датафрейма?** Для этого нужно написать переменную, где хранится датафрейм, поставить точку и написать название атрибута (без скобок!). Например:\n",
    "```python\n",
    "df.some_attribute\n",
    "```\n",
    "</p>\n",
    "</details>"
   ]
  },
  {
   "cell_type": "code",
   "execution_count": 5,
   "metadata": {
    "id": "6z33f-xCv-l3"
   },
   "outputs": [],
   "source": [
    "# Ваш код здесь\n",
    "\n"
   ]
  },
  {
   "cell_type": "markdown",
   "metadata": {
    "id": "LVdNK9RZv-l3"
   },
   "source": [
    "7. Удалите повторяющиеся наблюдения из `retail`, результат сохранив в этот же датафрейм"
   ]
  },
  {
   "cell_type": "markdown",
   "metadata": {
    "id": "XWgG6ZTYv-l3"
   },
   "source": [
    "<details>\n",
    "<summary>&#9658; Нажмите сюда, чтобы увидеть подсказку</summary>\n",
    "  <p>\n",
    "\n",
    "**Чтобы удалить дубликаты,** используйте метод `drop_duplicates()`.\n",
    "\n",
    "**Как применить метод?** Например, применим метод `some_method()` к датафрейму `df` и сохраним результат в тот же датафрейм:\n",
    "```python\n",
    "df = df.some_method()\n",
    "```\n",
    "     \n",
    "</p>\n",
    "</details>"
   ]
  },
  {
   "cell_type": "code",
   "execution_count": 6,
   "metadata": {
    "id": "RuofIH-9v-l4"
   },
   "outputs": [],
   "source": [
    "# Ваш код здесь\n",
    "\n"
   ]
  },
  {
   "cell_type": "markdown",
   "metadata": {
    "id": "AsxLi5J1v-l4"
   },
   "source": [
    "8. Проверьте размер получившегося датафрейма `retail` и убедитесь, что удаление дубликатов прошло корректно"
   ]
  },
  {
   "cell_type": "markdown",
   "metadata": {
    "id": "DTd7Vjvkv-l4"
   },
   "source": [
    "<details>\n",
    "<summary>&#9658; Нажмите сюда, чтобы увидеть подсказку</summary>\n",
    "  <p>\n",
    "      \n",
    "**Используйте атрибут `shape`, чтобы узнать количество строк и столбцов.** Этот атрибут возвращает кортеж, первый элемент которого указывает на количество строк, а второй — на количество столбцов в датафрейме.  \n",
    "      \n",
    "**Как обратиться к атрибуту датафрейма?** Для этого нужно написать переменную, где хранится датафрейм, поставить точку и написать название атрибута (без скобок!). Например:\n",
    "```python\n",
    "df.some_attribute\n",
    "```\n",
    "      \n",
    "**Как понять, что удаление дубликатов прошло корректно?** У вас должно получиться количество строк, равное разнице между первоначальным числом строк этого датафрейма и количеством удаленных дубликатов. При этом количество столбцов должно остаться неизменным.\n",
    "</p>\n",
    "</details>"
   ]
  },
  {
   "cell_type": "code",
   "execution_count": 7,
   "metadata": {
    "id": "NGsbRncGv-l5"
   },
   "outputs": [],
   "source": [
    "# Ваш код здесь\n",
    "\n"
   ]
  },
  {
   "cell_type": "markdown",
   "metadata": {
    "id": "-UDd7p-Dv-l5"
   },
   "source": [
    "**Решение**"
   ]
  },
  {
   "cell_type": "code",
   "execution_count": 8,
   "metadata": {
    "id": "aVWy-n23v-l5"
   },
   "outputs": [],
   "source": [
    "import pandas as pd"
   ]
  },
  {
   "cell_type": "code",
   "execution_count": null,
   "metadata": {
    "id": "ZDSOmbWZv-l6"
   },
   "outputs": [],
   "source": [
    "retail = pd.read_csv('6_data.zip', encoding='ISO-8859-1', compression='zip')"
   ]
  },
  {
   "cell_type": "code",
   "execution_count": 10,
   "metadata": {
    "id": "aCFQOxD9v-l6",
    "outputId": "0d16718e-b506-473e-ad42-654524e8fff4"
   },
   "outputs": [
    {
     "data": {
      "text/html": [
       "<div>\n",
       "<style scoped>\n",
       "    .dataframe tbody tr th:only-of-type {\n",
       "        vertical-align: middle;\n",
       "    }\n",
       "\n",
       "    .dataframe tbody tr th {\n",
       "        vertical-align: top;\n",
       "    }\n",
       "\n",
       "    .dataframe thead th {\n",
       "        text-align: right;\n",
       "    }\n",
       "</style>\n",
       "<table border=\"1\" class=\"dataframe\">\n",
       "  <thead>\n",
       "    <tr style=\"text-align: right;\">\n",
       "      <th></th>\n",
       "      <th>InvoiceNo</th>\n",
       "      <th>StockCode</th>\n",
       "      <th>Description</th>\n",
       "      <th>Quantity</th>\n",
       "      <th>InvoiceDate</th>\n",
       "      <th>UnitPrice</th>\n",
       "      <th>CustomerID</th>\n",
       "      <th>Country</th>\n",
       "    </tr>\n",
       "  </thead>\n",
       "  <tbody>\n",
       "    <tr>\n",
       "      <th>0</th>\n",
       "      <td>536365</td>\n",
       "      <td>85123A</td>\n",
       "      <td>WHITE HANGING HEART T-LIGHT HOLDER</td>\n",
       "      <td>6</td>\n",
       "      <td>12/1/2010 8:26</td>\n",
       "      <td>2.55</td>\n",
       "      <td>17850.0</td>\n",
       "      <td>United Kingdom</td>\n",
       "    </tr>\n",
       "    <tr>\n",
       "      <th>1</th>\n",
       "      <td>536365</td>\n",
       "      <td>71053</td>\n",
       "      <td>WHITE METAL LANTERN</td>\n",
       "      <td>6</td>\n",
       "      <td>12/1/2010 8:26</td>\n",
       "      <td>3.39</td>\n",
       "      <td>17850.0</td>\n",
       "      <td>United Kingdom</td>\n",
       "    </tr>\n",
       "    <tr>\n",
       "      <th>2</th>\n",
       "      <td>536365</td>\n",
       "      <td>84406B</td>\n",
       "      <td>CREAM CUPID HEARTS COAT HANGER</td>\n",
       "      <td>8</td>\n",
       "      <td>12/1/2010 8:26</td>\n",
       "      <td>2.75</td>\n",
       "      <td>17850.0</td>\n",
       "      <td>United Kingdom</td>\n",
       "    </tr>\n",
       "    <tr>\n",
       "      <th>3</th>\n",
       "      <td>536365</td>\n",
       "      <td>84029G</td>\n",
       "      <td>KNITTED UNION FLAG HOT WATER BOTTLE</td>\n",
       "      <td>6</td>\n",
       "      <td>12/1/2010 8:26</td>\n",
       "      <td>3.39</td>\n",
       "      <td>17850.0</td>\n",
       "      <td>United Kingdom</td>\n",
       "    </tr>\n",
       "    <tr>\n",
       "      <th>4</th>\n",
       "      <td>536365</td>\n",
       "      <td>84029E</td>\n",
       "      <td>RED WOOLLY HOTTIE WHITE HEART.</td>\n",
       "      <td>6</td>\n",
       "      <td>12/1/2010 8:26</td>\n",
       "      <td>3.39</td>\n",
       "      <td>17850.0</td>\n",
       "      <td>United Kingdom</td>\n",
       "    </tr>\n",
       "  </tbody>\n",
       "</table>\n",
       "</div>"
      ],
      "text/plain": [
       "  InvoiceNo StockCode                          Description  Quantity  \\\n",
       "0    536365    85123A   WHITE HANGING HEART T-LIGHT HOLDER         6   \n",
       "1    536365     71053                  WHITE METAL LANTERN         6   \n",
       "2    536365    84406B       CREAM CUPID HEARTS COAT HANGER         8   \n",
       "3    536365    84029G  KNITTED UNION FLAG HOT WATER BOTTLE         6   \n",
       "4    536365    84029E       RED WOOLLY HOTTIE WHITE HEART.         6   \n",
       "\n",
       "      InvoiceDate  UnitPrice  CustomerID         Country  \n",
       "0  12/1/2010 8:26       2.55     17850.0  United Kingdom  \n",
       "1  12/1/2010 8:26       3.39     17850.0  United Kingdom  \n",
       "2  12/1/2010 8:26       2.75     17850.0  United Kingdom  \n",
       "3  12/1/2010 8:26       3.39     17850.0  United Kingdom  \n",
       "4  12/1/2010 8:26       3.39     17850.0  United Kingdom  "
      ]
     },
     "execution_count": 10,
     "metadata": {},
     "output_type": "execute_result"
    }
   ],
   "source": [
    "retail.head()"
   ]
  },
  {
   "cell_type": "code",
   "execution_count": 11,
   "metadata": {
    "id": "z6Mhp1vXv-l8",
    "outputId": "473a430b-9885-4aaf-9da2-3a51bb862130"
   },
   "outputs": [
    {
     "data": {
      "text/plain": [
       "(541909, 8)"
      ]
     },
     "execution_count": 11,
     "metadata": {},
     "output_type": "execute_result"
    }
   ],
   "source": [
    "retail.shape"
   ]
  },
  {
   "cell_type": "code",
   "execution_count": 12,
   "metadata": {
    "id": "rh9nXlnfv-l8",
    "outputId": "b4f7a18b-7f7b-4ac4-a4f6-ec986b130973"
   },
   "outputs": [
    {
     "data": {
      "text/plain": [
       "(5268, 8)"
      ]
     },
     "execution_count": 12,
     "metadata": {},
     "output_type": "execute_result"
    }
   ],
   "source": [
    "retail.loc[retail.duplicated()].shape"
   ]
  },
  {
   "cell_type": "code",
   "execution_count": 13,
   "metadata": {
    "id": "SmR9HBi0v-l9"
   },
   "outputs": [],
   "source": [
    "retail = retail.drop_duplicates()"
   ]
  },
  {
   "cell_type": "code",
   "execution_count": 14,
   "metadata": {
    "id": "zTd50YcCv-l9",
    "outputId": "5bf37a1b-8709-4126-b02c-92f7b2fd1b71"
   },
   "outputs": [
    {
     "data": {
      "text/plain": [
       "(536641, 8)"
      ]
     },
     "execution_count": 14,
     "metadata": {},
     "output_type": "execute_result"
    }
   ],
   "source": [
    "retail.shape"
   ]
  },
  {
   "cell_type": "markdown",
   "metadata": {
    "id": "Wz0uUr-Gv-l-"
   },
   "source": [
    "**Ответ: 5268**"
   ]
  },
  {
   "cell_type": "markdown",
   "metadata": {
    "id": "3xQVd81Tv-l-"
   },
   "source": [
    "## Шаг 3"
   ]
  },
  {
   "cell_type": "markdown",
   "metadata": {
    "id": "TcsYe27Gv-mI"
   },
   "source": [
    "Продолжим предобработку данных перед их анализом. Данные содержат в себе записи как об успешных транзакциях, так и об отмененных. Если пользователь отменил транзакцию, в начале номера заказа (см.колонку `InvoiceNo`) ставится `C` (от `canceled`). **Сколько всего транзакций отменили пользователи?** Удалите эти записи из датафрейма `retail`, дальше они нам не понадобятся"
   ]
  },
  {
   "cell_type": "markdown",
   "metadata": {
    "id": "8Vlp2e5yv-mJ"
   },
   "source": [
    "Шаги выполнения:  \n",
    "1. Определите для каждой строки в колонке `InvoiceNo`, начинается ли эта строка с английской буквы `C`"
   ]
  },
  {
   "cell_type": "markdown",
   "metadata": {
    "id": "ovO2x7P9v-mK"
   },
   "source": [
    "<details>\n",
    "<summary>&#9658; Нажмите сюда, чтобы увидеть подсказку</summary>\n",
    "  <p>\n",
    "\n",
    "Используйте аксессор `str` и метод `startswith()`. Этот метод определяет, начинается ли строка с той подстроки, что подана в метод.\n",
    "\n",
    "**Как применить метод?** Например:\n",
    "```python\n",
    "df.col_str.str.startswith('abc')\n",
    "```\n",
    "используя аксессор `str`, применим строковый метод `some_method()` к колонке `col_str` со строковыми данными и подадим в метод подстроку 'abc'. Этот код вернёт колонку из логических значений:  \n",
    "`True`, если значение в ячейке начинается со строки `abc`  \n",
    "`False`, если значение начинается с чего-то другого.   \n",
    "</p>\n",
    "</details>"
   ]
  },
  {
   "cell_type": "code",
   "execution_count": 15,
   "metadata": {
    "id": "gurW3xP8v-mK"
   },
   "outputs": [],
   "source": [
    "# Ваш код здесь\n",
    "\n"
   ]
  },
  {
   "cell_type": "markdown",
   "metadata": {
    "id": "LXcCrq4Yv-mK"
   },
   "source": [
    "2. Посчитайте количество строк в колонке `InvoiceNo`, начинающихся с английской буквы `C`"
   ]
  },
  {
   "cell_type": "markdown",
   "metadata": {
    "id": "ui9FqgW-v-mL"
   },
   "source": [
    "<details>\n",
    "<summary>&#9658; Нажмите сюда, чтобы увидеть подсказку</summary>\n",
    "  <p>\n",
    "\n",
    "Используйте метод `sum()`, применив его к результату с первого шага выполнения, где для каждой ячейки указано `True` или `False`. Этот метод позволит вам посчитать, сколько ячеек начинается с английской буквы `C` (`True` считается как 1, `False` - как 0)\n",
    "\n",
    "Как использовать метод? Например применим метод `some_method()` к колонке `column_name` датафрейма `df`:\n",
    "```python\n",
    "df.column_name.some_method()\n",
    "```\n",
    "</p>\n",
    "</details>\n"
   ]
  },
  {
   "cell_type": "code",
   "execution_count": 16,
   "metadata": {
    "id": "qxR1c8_vv-mL"
   },
   "outputs": [],
   "source": [
    "# Ваш код здесь\n",
    "\n"
   ]
  },
  {
   "cell_type": "markdown",
   "metadata": {
    "id": "9hxFBVvgv-mL"
   },
   "source": [
    "3. Удалите записи об отмененных транзакциях из датафрейма `retail` - то есть ОСТАВЬТЕ в нем только те строки, которые в колонке `InvoiceNo` НЕ начинаются с английской буквы `C`"
   ]
  },
  {
   "cell_type": "markdown",
   "metadata": {
    "id": "qNtAnGPIv-mM"
   },
   "source": [
    "<details>\n",
    "<summary>&#9658; Нажмите сюда, чтобы увидеть подсказку</summary>\n",
    "  <p>\n",
    "\n",
    "**Чтобы оставить только нужные записи,** используйте аксессор `loc[]`, внутрь которого передайте условие, что значение в колонке `InvoiceNo` НЕ начинается с английской буквы `C`. Для этого внутри аксессора напишите код из первого шага выполнения и поставьте перед ним, но всё также внутри квадратных скобок знак `~`, который означает, что это условие не должно выполняться\n",
    "\n",
    "**Как использовать аксессор?** Например, код\n",
    "```python\n",
    "df = df.loc[~df.some_method()]\n",
    "```\n",
    "оставит в датафрейме `df` только те строки, где в результате применения метода `some_method()` будет `False`\n",
    "      \n",
    "Не забудьте сохранить результат применения аксессора в тот же датафрейм `retail`\n",
    "</p>\n",
    "</details>"
   ]
  },
  {
   "cell_type": "code",
   "execution_count": 17,
   "metadata": {
    "id": "m7lt7JZkv-mM"
   },
   "outputs": [],
   "source": [
    "# Ваш код здесь\n",
    "\n"
   ]
  },
  {
   "cell_type": "markdown",
   "metadata": {
    "id": "JEuavyaWv-mM"
   },
   "source": [
    "**Решение**"
   ]
  },
  {
   "cell_type": "code",
   "execution_count": 18,
   "metadata": {
    "id": "mPDn4Nx8v-mN",
    "outputId": "dbf037ba-8c68-4613-fd48-0d3cc013d381"
   },
   "outputs": [
    {
     "data": {
      "text/plain": [
       "9251"
      ]
     },
     "execution_count": 18,
     "metadata": {},
     "output_type": "execute_result"
    }
   ],
   "source": [
    "retail.InvoiceNo.str.startswith('C').sum()"
   ]
  },
  {
   "cell_type": "code",
   "execution_count": 19,
   "metadata": {
    "id": "H-aJ1p5_v-mR"
   },
   "outputs": [],
   "source": [
    "retail = retail.loc[~retail.InvoiceNo.str.startswith('C')]"
   ]
  },
  {
   "cell_type": "markdown",
   "metadata": {
    "id": "EBngdf4Hv-mS"
   },
   "source": [
    "**Ответ: 9251**"
   ]
  },
  {
   "cell_type": "markdown",
   "metadata": {
    "id": "Cu0S1ii4v-mU"
   },
   "source": [
    "## Шаг 4"
   ]
  },
  {
   "cell_type": "markdown",
   "metadata": {
    "id": "1hvjTr7Hv-mU"
   },
   "source": [
    "Ваша задача — проанализировать покупки наиболее активных пользователей одной из стран. **Для этого сначала вам нужно найти пользователей из Германии, которые совершили значительное количество заказов, т.е. выше определенного порога N**. Ваши коллеги уже расчитали, что этот порог — 80-й процентиль. Иными словами, вам нужно посчитать число заказов (см.колонку `InvoiceNo`) для каждого пользователя (см. колонку `CustomerID`) из Германии (Germany) и оставить только тех, кто совершил более N заказов, где N – 80-й процентиль. Запишите полученные id пользователей в переменную `germany_top` (не весь датафрейм, только id).\n",
    "\n",
    "**На LMS датафрейм сохранен в переменную `retail`. Загрузите в LMS Ваш код, в котором выполняете все эти шаги**"
   ]
  },
  {
   "cell_type": "markdown",
   "metadata": {
    "id": "CuMiv4qNv-mV"
   },
   "source": [
    "Шаги выполнения:  \n",
    "1. Оставьте только записи о пользователях из Германии (см.колонку `Country`)"
   ]
  },
  {
   "cell_type": "markdown",
   "metadata": {
    "id": "WZZOUcByv-mW"
   },
   "source": [
    "<details>\n",
    "<summary>&#9658; Нажмите сюда, чтобы увидеть подсказку</summary>\n",
    "  <p>\n",
    "\n",
    "**Чтобы отобрать только нужные записи, используйте метод `query()`**, внутри которого напишите строку с условием: значение в колонке `Country` равно 'Germany'.\n",
    "\n",
    "**Как использовать метод?** Давайте применим метод `some_method()` к датафрейму `df`:\n",
    "```python\n",
    "df.some_method()\n",
    "```\n",
    "           \n",
    "Учтите, что условие нужно написать в единых кавычках, а название колонки — без кавычек. Целые числа и булевы значения (True, False) также пишутся без кавычек, а строки — в кавычках (двойных или одинарных — главное, не тех, в которые взяты оба условия).\n",
    "      \n",
    "Помните, что один знак равно означает присвоение, а два — проверку на равенство.\n",
    "      \n",
    "</p>\n",
    "</details>"
   ]
  },
  {
   "cell_type": "code",
   "execution_count": 20,
   "metadata": {
    "id": "tgRVSIPkv-mX"
   },
   "outputs": [],
   "source": [
    "# Ваш код здесь\n",
    "\n"
   ]
  },
  {
   "cell_type": "markdown",
   "metadata": {
    "id": "_QOwzmWRv-mY"
   },
   "source": [
    "2. Посчитайте количество заказов (не транзакций) для каждого пользователя и сохраните результат в новый датафрейм `invoice_dist`"
   ]
  },
  {
   "cell_type": "markdown",
   "metadata": {
    "id": "n3YSOz3kv-mZ"
   },
   "source": [
    "<details>\n",
    "<summary>&#9658; Нажмите сюда, чтобы увидеть подсказку</summary>\n",
    "  <p>\n",
    "\n",
    "**Сгруппируйте данные по столбцу `CustomerID`, используя метод `groupby()`**. Его вызов группирует строки по значениям в какой-то колонке (или комбинации значений из нескольких колонок). Чтобы колонка `CustomerID` не оказалась в индексе, используйте параметр `as_index=False`. Например,\n",
    "\n",
    "```python\n",
    "df.groupby('col_1', as_index=False)\n",
    "```\n",
    "сгруппирует данные датафрейма `df` по колонке `col_1`. При этом колонка `col_1` останется колонкой, а не индексом. Сама по себе группировка не вычисляет что-то по группам.\n",
    "      \n",
    "**После группировки используйте метод `agg()`**, в котором примените агрегирующую функцию `nunique` к колонке `InvoiceNo`. Функция посчитает число уникальных значений в колонке для каждого клиента\n",
    "\n",
    "**Как использовать метод `agg()`?** Например, применим его к датафрейму `df` и посчитаем сумму по столбцу `column_name`:\n",
    "```python\n",
    "df.agg({'column_name':'sum'})\n",
    "```\n",
    "\n",
    "**Как использовать метод `agg()` после группировки?** Используйте цепочку методов, применив их друг за другом. Например:\n",
    "```python\n",
    "df.some_method_1().some_method_2()\n",
    "```      \n",
    "</p>\n",
    "</details>"
   ]
  },
  {
   "cell_type": "code",
   "execution_count": 21,
   "metadata": {
    "id": "4WGg53nlv-ma"
   },
   "outputs": [],
   "source": [
    "# Ваш код здесь\n",
    "\n"
   ]
  },
  {
   "cell_type": "markdown",
   "metadata": {
    "id": "DOC-_FHhv-mb"
   },
   "source": [
    "3. В получившемся датафрейме переименуйте колонку с числом заказов в `total_invoices`"
   ]
  },
  {
   "cell_type": "markdown",
   "metadata": {
    "id": "QV1SrPb_v-mb"
   },
   "source": [
    "<details>\n",
    "<summary>&#9658; Нажмите сюда, чтобы увидеть подсказку</summary>\n",
    "  <p>\n",
    "\n",
    "Для переименования колонки передайте в метод `rename()` в параметр `columns` словарь, где ключами являются старые названия колонок, а значениями - новые названия. Например:\n",
    "\n",
    "```python\n",
    "df = df.rename(columns={'old_name':'new_name'})\n",
    "```\n",
    "</p>\n",
    "</details>"
   ]
  },
  {
   "cell_type": "code",
   "execution_count": 22,
   "metadata": {
    "id": "N0ZvDZRJv-mc"
   },
   "outputs": [],
   "source": [
    "# Ваш код здесь\n",
    "\n"
   ]
  },
  {
   "cell_type": "markdown",
   "metadata": {
    "id": "_yf9CkXiv-mc"
   },
   "source": [
    "4. Определите значение порога N – 80го процентиля для числа заказов"
   ]
  },
  {
   "cell_type": "markdown",
   "metadata": {
    "id": "qJk_dB-rv-md"
   },
   "source": [
    "<details>\n",
    "<summary>&#9658; Нажмите сюда, чтобы увидеть подсказку</summary>\n",
    "  <p>\n",
    "\n",
    "**Используйте метод `quantile()` с параметром `q` равным 0.8**. Примените метод к колонке `total_invoices` в новом датафрейме `invoice_dist`\n",
    "\n",
    "**Как использовать метод?** Например применим метод `some_method()` с параметром p равным 5 к колонке `column_name` датафрейма `df`:\n",
    "```python\n",
    "df.column_name.some_method(p=5)    \n",
    "```\n",
    "\n",
    "**Результат сохраните в переменную N**\n",
    "</p>\n",
    "</details>"
   ]
  },
  {
   "cell_type": "code",
   "execution_count": 23,
   "metadata": {
    "id": "_x5GmzZBv-md"
   },
   "outputs": [],
   "source": [
    "# Ваш код здесь\n",
    "\n"
   ]
  },
  {
   "cell_type": "markdown",
   "metadata": {
    "id": "oacmh1iZv-md"
   },
   "source": [
    "5. Оставьте только записи о тех клиентах, кто совершил заказов больше, чем порог N"
   ]
  },
  {
   "cell_type": "markdown",
   "metadata": {
    "id": "yxp377CVv-me"
   },
   "source": [
    "<details>\n",
    "<summary>&#9658; Нажмите сюда, чтобы увидеть подсказку</summary>\n",
    "  <p>\n",
    "\n",
    "**Чтобы отобрать только нужные записи,** используйте аксессор `loc[]`, внутри которого напишите условие, что значение в колонке `total_invoices` выше, чем значение в переменной `N`\n",
    "      \n",
    "**Как использовать аксессор?** Например, код\n",
    "```python\n",
    "df.loc[df.col_name == some_variable]\n",
    "```\n",
    "вернет только те строки датафрейма `df`, где значение в колонке `col_name` равно значению в переменной `some_variable`\n",
    "      \n",
    "Обратите внимание, что при фильтрации с помощью `loc` ставить `@` перед названием переменной не нужно, а при фильтрации с помощью `query` - нужно\n",
    "</p>\n",
    "</details>"
   ]
  },
  {
   "cell_type": "code",
   "execution_count": 24,
   "metadata": {
    "id": "qrFD8vnZv-me"
   },
   "outputs": [],
   "source": [
    "# Ваш код здесь\n",
    "\n"
   ]
  },
  {
   "cell_type": "markdown",
   "metadata": {
    "id": "Q2dZG4ehv-me"
   },
   "source": [
    "6. Запишите в переменную `germany_top` только оставшиеся id пользователей"
   ]
  },
  {
   "cell_type": "markdown",
   "metadata": {
    "id": "zcVCvc6Bv-mf"
   },
   "source": [
    "<details>\n",
    "<summary>&#9658; Нажмите сюда, чтобы увидеть подсказку</summary>\n",
    "  <p>\n",
    "\n",
    "**Обратитесь к колонке `CustomerID` в отфильтрованном на пятом шаге выполнения датафрейме.**\n",
    "      \n",
    "**Как сохранить колонку в переменную?** Например, код\n",
    "```python\n",
    "new_variable = df['col_name']\n",
    "```\n",
    "сохранит в переменную `new_variable` значения из колонки `col_name` датафрейма. `df`\n",
    "</p>\n",
    "</details>"
   ]
  },
  {
   "cell_type": "code",
   "execution_count": 25,
   "metadata": {
    "id": "r5qmSnJQv-mg"
   },
   "outputs": [],
   "source": [
    "# Ваш код здесь\n",
    "\n"
   ]
  },
  {
   "cell_type": "markdown",
   "metadata": {
    "id": "YhMhwhi8v-mh"
   },
   "source": [
    "7. Скопируйте и загрузите в LMS весь ваш код для этого задания"
   ]
  },
  {
   "cell_type": "markdown",
   "metadata": {
    "id": "yUcRQ6_wv-mh"
   },
   "source": [
    "**Решение**"
   ]
  },
  {
   "cell_type": "code",
   "execution_count": 26,
   "metadata": {
    "id": "IfC94Yo3v-mi"
   },
   "outputs": [],
   "source": [
    "invoice_dist = retail.query('Country == \"Germany\"')\\\n",
    "                .groupby('CustomerID', as_index=False)\\\n",
    "                .agg({'InvoiceNo':'nunique'})\\\n",
    "                .rename(columns={'InvoiceNo':'total_invoices'})"
   ]
  },
  {
   "cell_type": "code",
   "execution_count": 27,
   "metadata": {
    "id": "K6KxhFuPv-mi",
    "outputId": "06cd24f7-dd05-4a06-f4ab-44ebefc0f92d"
   },
   "outputs": [
    {
     "data": {
      "text/html": [
       "<div>\n",
       "<style scoped>\n",
       "    .dataframe tbody tr th:only-of-type {\n",
       "        vertical-align: middle;\n",
       "    }\n",
       "\n",
       "    .dataframe tbody tr th {\n",
       "        vertical-align: top;\n",
       "    }\n",
       "\n",
       "    .dataframe thead th {\n",
       "        text-align: right;\n",
       "    }\n",
       "</style>\n",
       "<table border=\"1\" class=\"dataframe\">\n",
       "  <thead>\n",
       "    <tr style=\"text-align: right;\">\n",
       "      <th></th>\n",
       "      <th>CustomerID</th>\n",
       "      <th>total_invoices</th>\n",
       "    </tr>\n",
       "  </thead>\n",
       "  <tbody>\n",
       "    <tr>\n",
       "      <th>0</th>\n",
       "      <td>12426.0</td>\n",
       "      <td>1</td>\n",
       "    </tr>\n",
       "    <tr>\n",
       "      <th>1</th>\n",
       "      <td>12427.0</td>\n",
       "      <td>3</td>\n",
       "    </tr>\n",
       "    <tr>\n",
       "      <th>2</th>\n",
       "      <td>12468.0</td>\n",
       "      <td>2</td>\n",
       "    </tr>\n",
       "    <tr>\n",
       "      <th>3</th>\n",
       "      <td>12471.0</td>\n",
       "      <td>30</td>\n",
       "    </tr>\n",
       "    <tr>\n",
       "      <th>4</th>\n",
       "      <td>12472.0</td>\n",
       "      <td>7</td>\n",
       "    </tr>\n",
       "  </tbody>\n",
       "</table>\n",
       "</div>"
      ],
      "text/plain": [
       "   CustomerID  total_invoices\n",
       "0     12426.0               1\n",
       "1     12427.0               3\n",
       "2     12468.0               2\n",
       "3     12471.0              30\n",
       "4     12472.0               7"
      ]
     },
     "execution_count": 27,
     "metadata": {},
     "output_type": "execute_result"
    }
   ],
   "source": [
    "invoice_dist.head()"
   ]
  },
  {
   "cell_type": "code",
   "execution_count": 28,
   "metadata": {
    "id": "-etbp7mMv-mm"
   },
   "outputs": [],
   "source": [
    "N = invoice_dist.total_invoices.quantile(q=0.8)"
   ]
  },
  {
   "cell_type": "code",
   "execution_count": 29,
   "metadata": {
    "id": "facZt57tv-mn",
    "outputId": "fdd7175c-6f6e-45eb-ec14-326f02ad3907"
   },
   "outputs": [
    {
     "data": {
      "text/plain": [
       "7.0"
      ]
     },
     "execution_count": 29,
     "metadata": {},
     "output_type": "execute_result"
    }
   ],
   "source": [
    "N"
   ]
  },
  {
   "cell_type": "code",
   "execution_count": 30,
   "metadata": {
    "id": "wzSOar13v-mn"
   },
   "outputs": [],
   "source": [
    "germany_top = invoice_dist.loc[invoice_dist.total_invoices > N]['CustomerID']"
   ]
  },
  {
   "cell_type": "code",
   "execution_count": 31,
   "metadata": {
    "id": "czVBrgoGv-mo",
    "outputId": "0645cac1-dee0-46ac-c2e4-4fee69bbea3f"
   },
   "outputs": [
    {
     "data": {
      "text/plain": [
       "3     12471.0\n",
       "6     12474.0\n",
       "8     12476.0\n",
       "12    12481.0\n",
       "16    12500.0\n",
       "26    12524.0\n",
       "37    12569.0\n",
       "44    12600.0\n",
       "51    12619.0\n",
       "52    12621.0\n",
       "56    12626.0\n",
       "64    12647.0\n",
       "69    12662.0\n",
       "77    12705.0\n",
       "78    12708.0\n",
       "79    12709.0\n",
       "81    12712.0\n",
       "83    12720.0\n",
       "Name: CustomerID, dtype: float64"
      ]
     },
     "execution_count": 31,
     "metadata": {},
     "output_type": "execute_result"
    }
   ],
   "source": [
    "germany_top"
   ]
  },
  {
   "cell_type": "markdown",
   "metadata": {
    "id": "Kfz8EXnPv-mp"
   },
   "source": [
    "**Код для отправки в LMS:**\n",
    "\n",
    "```\n",
    "invoice_dist = retail.query('Country == \"Germany\"')\\\n",
    "                .groupby('CustomerID', as_index=False)\\\n",
    "                .agg({'InvoiceNo':'nunique'})\\\n",
    "                .rename(columns={'InvoiceNo':'total_invoices'})\n",
    "N = invoice_dist.total_invoices.quantile(q=0.8)\n",
    "germany_top = invoice_dist.loc[invoice_dist.total_invoices > N]['CustomerID']\n",
    "```"
   ]
  },
  {
   "cell_type": "markdown",
   "metadata": {
    "id": "3FHJv8RUv-mq"
   },
   "source": [
    "## Шаг 5"
   ]
  },
  {
   "cell_type": "markdown",
   "metadata": {
    "id": "9VJChOx7v-mq"
   },
   "source": [
    "Теперь, когда у вас есть нужные id пользователей (в переменной `germany_top` с предыдущего шага), вы можете отобрать все записи о транзакциях этих пользователей, чтобы потом их проанализировать. **Возьмите из датафрейма `retail` записи только по интересующим нас пользователям из переменной `germany_top`. Результирующий датафрейм запишите в `top_retail_germany`.**\n",
    "\n",
    "**На LMS датафрейм с данными о транзакциях сохранен в переменную `retail`, а нужные id пользователей – в `germany_top`. Загрузите в LMS ваш код, в котором сохраняете в датафрейм `top_retail_germany` только записи о транзакциях нужных пользователей**"
   ]
  },
  {
   "cell_type": "markdown",
   "metadata": {
    "id": "Ett6MDm2v-mr"
   },
   "source": [
    "Шаги выполнения:  \n",
    "1. Отберите из датафрейма `retail` записи только по интересующим нас пользователям из переменной `germany_top`"
   ]
  },
  {
   "cell_type": "markdown",
   "metadata": {
    "id": "Coo8Czf-v-ms"
   },
   "source": [
    "<details>\n",
    "<summary>&#9658; Нажмите сюда, чтобы увидеть подсказку</summary>\n",
    "  <p>\n",
    "\n",
    "**Чтобы отобрать только нужные записи,** используйте аксессор `loc[]`, внутри которого примените к колонке `CustomerID` датафрейма `retail` метод `isin()`. В качестве аргумента в метод подайте переменную `germany_top`. Этот метод определит, есть ли значение из каждой ячейки в переменной.\n",
    "\n",
    "**Как применить метод?** Например, применим метод `some_method()` с аргументом `some_argument` к колонке `col_name` датафрейма `df`:\n",
    "```python\n",
    "df.col_name.some_method(some_argument)\n",
    "```\n",
    "      \n",
    "**Как использовать аксессор?** Например, код\n",
    "```python\n",
    "df.loc[df.some_method()]\n",
    "```\n",
    "вернет только те строки датафрейма `df`, где в результате применения метода `some_method()` будет `True`.\n",
    "</p>\n",
    "</details>"
   ]
  },
  {
   "cell_type": "code",
   "execution_count": 32,
   "metadata": {
    "id": "Jn8pUJUAv-mt"
   },
   "outputs": [],
   "source": [
    "# Ваш код здесь\n",
    "\n"
   ]
  },
  {
   "cell_type": "markdown",
   "metadata": {
    "id": "2nTVN3ndv-mt"
   },
   "source": [
    "2. Сохраните отобранные записи в новый датафрейм `top_retail_germany`"
   ]
  },
  {
   "cell_type": "markdown",
   "metadata": {
    "id": "82Ehoqnov-mv"
   },
   "source": [
    "<details>\n",
    "<summary>&#9658; Нажмите сюда, чтобы увидеть подсказку</summary>\n",
    "  <p>\n",
    "    \n",
    "**Как сохранить отобранные записи в новый датафрейм?** Например, код\n",
    "```python\n",
    "new_df = df.loc[]\n",
    "```\n",
    "сохранит в датафрейм `new_df` только отобранные значения из датафрейма `df`\n",
    "</p>\n",
    "</details>"
   ]
  },
  {
   "cell_type": "code",
   "execution_count": 33,
   "metadata": {
    "id": "Xcp4YfcEv-mv"
   },
   "outputs": [],
   "source": [
    "# Ваш код здесь\n",
    "\n"
   ]
  },
  {
   "cell_type": "markdown",
   "metadata": {
    "id": "iEwK0h-uv-mw"
   },
   "source": [
    "3. Скопируйте и загрузите в LMS код, в котором сохраняете в датафрейм `top_retail_germany` только записи о транзакциях нужных пользователей"
   ]
  },
  {
   "cell_type": "markdown",
   "metadata": {
    "id": "1fCqaJrnv-mw"
   },
   "source": [
    "**Решение**"
   ]
  },
  {
   "cell_type": "code",
   "execution_count": 34,
   "metadata": {
    "id": "cLBAFLoXv-mx"
   },
   "outputs": [],
   "source": [
    "top_retail_germany = retail.loc[retail.CustomerID.isin(germany_top)]"
   ]
  },
  {
   "cell_type": "code",
   "execution_count": 35,
   "metadata": {
    "id": "9vEN4-i_v-mx",
    "outputId": "7f10b80d-5f9c-45b8-ef04-32290376e351"
   },
   "outputs": [
    {
     "data": {
      "text/html": [
       "<div>\n",
       "<style scoped>\n",
       "    .dataframe tbody tr th:only-of-type {\n",
       "        vertical-align: middle;\n",
       "    }\n",
       "\n",
       "    .dataframe tbody tr th {\n",
       "        vertical-align: top;\n",
       "    }\n",
       "\n",
       "    .dataframe thead th {\n",
       "        text-align: right;\n",
       "    }\n",
       "</style>\n",
       "<table border=\"1\" class=\"dataframe\">\n",
       "  <thead>\n",
       "    <tr style=\"text-align: right;\">\n",
       "      <th></th>\n",
       "      <th>InvoiceNo</th>\n",
       "      <th>StockCode</th>\n",
       "      <th>Description</th>\n",
       "      <th>Quantity</th>\n",
       "      <th>InvoiceDate</th>\n",
       "      <th>UnitPrice</th>\n",
       "      <th>CustomerID</th>\n",
       "      <th>Country</th>\n",
       "    </tr>\n",
       "  </thead>\n",
       "  <tbody>\n",
       "    <tr>\n",
       "      <th>1109</th>\n",
       "      <td>536527</td>\n",
       "      <td>22809</td>\n",
       "      <td>SET OF 6 T-LIGHTS SANTA</td>\n",
       "      <td>6</td>\n",
       "      <td>12/1/2010 13:04</td>\n",
       "      <td>2.95</td>\n",
       "      <td>12662.0</td>\n",
       "      <td>Germany</td>\n",
       "    </tr>\n",
       "    <tr>\n",
       "      <th>1110</th>\n",
       "      <td>536527</td>\n",
       "      <td>84347</td>\n",
       "      <td>ROTATING SILVER ANGELS T-LIGHT HLDR</td>\n",
       "      <td>6</td>\n",
       "      <td>12/1/2010 13:04</td>\n",
       "      <td>2.55</td>\n",
       "      <td>12662.0</td>\n",
       "      <td>Germany</td>\n",
       "    </tr>\n",
       "    <tr>\n",
       "      <th>1111</th>\n",
       "      <td>536527</td>\n",
       "      <td>84945</td>\n",
       "      <td>MULTI COLOUR SILVER T-LIGHT HOLDER</td>\n",
       "      <td>12</td>\n",
       "      <td>12/1/2010 13:04</td>\n",
       "      <td>0.85</td>\n",
       "      <td>12662.0</td>\n",
       "      <td>Germany</td>\n",
       "    </tr>\n",
       "    <tr>\n",
       "      <th>1112</th>\n",
       "      <td>536527</td>\n",
       "      <td>22242</td>\n",
       "      <td>5 HOOK HANGER MAGIC TOADSTOOL</td>\n",
       "      <td>12</td>\n",
       "      <td>12/1/2010 13:04</td>\n",
       "      <td>1.65</td>\n",
       "      <td>12662.0</td>\n",
       "      <td>Germany</td>\n",
       "    </tr>\n",
       "    <tr>\n",
       "      <th>1113</th>\n",
       "      <td>536527</td>\n",
       "      <td>22244</td>\n",
       "      <td>3 HOOK HANGER MAGIC GARDEN</td>\n",
       "      <td>12</td>\n",
       "      <td>12/1/2010 13:04</td>\n",
       "      <td>1.95</td>\n",
       "      <td>12662.0</td>\n",
       "      <td>Germany</td>\n",
       "    </tr>\n",
       "  </tbody>\n",
       "</table>\n",
       "</div>"
      ],
      "text/plain": [
       "     InvoiceNo StockCode                          Description  Quantity  \\\n",
       "1109    536527     22809              SET OF 6 T-LIGHTS SANTA         6   \n",
       "1110    536527     84347  ROTATING SILVER ANGELS T-LIGHT HLDR         6   \n",
       "1111    536527     84945   MULTI COLOUR SILVER T-LIGHT HOLDER        12   \n",
       "1112    536527     22242        5 HOOK HANGER MAGIC TOADSTOOL        12   \n",
       "1113    536527     22244           3 HOOK HANGER MAGIC GARDEN        12   \n",
       "\n",
       "          InvoiceDate  UnitPrice  CustomerID  Country  \n",
       "1109  12/1/2010 13:04       2.95     12662.0  Germany  \n",
       "1110  12/1/2010 13:04       2.55     12662.0  Germany  \n",
       "1111  12/1/2010 13:04       0.85     12662.0  Germany  \n",
       "1112  12/1/2010 13:04       1.65     12662.0  Germany  \n",
       "1113  12/1/2010 13:04       1.95     12662.0  Germany  "
      ]
     },
     "execution_count": 35,
     "metadata": {},
     "output_type": "execute_result"
    }
   ],
   "source": [
    "top_retail_germany.head()"
   ]
  },
  {
   "cell_type": "markdown",
   "metadata": {
    "id": "28Q9mHn3v-mz"
   },
   "source": [
    "**Код для отправки в LMS:**\n",
    "\n",
    "```\n",
    "top_retail_germany = retail.loc[retail.CustomerID.isin(germany_top)]\n",
    "```"
   ]
  },
  {
   "cell_type": "markdown",
   "metadata": {
    "id": "KtlufTGlv-m0"
   },
   "source": [
    "## Шаг 6"
   ]
  },
  {
   "cell_type": "markdown",
   "metadata": {
    "id": "ObcEWR_jv-m1"
   },
   "source": [
    "Наконец можем переходить непосредственно к анализу данных! **Определите, какой товар отобранные нами активные пользователи из Германии (см.датафрейм `top_retail_germany`) добавляли в корзину чаще всего (без учета количества товара).** Не берите в расчет услугу доставки, обозначенную как `POST`."
   ]
  },
  {
   "cell_type": "markdown",
   "metadata": {
    "id": "WfRDrrpav-m1"
   },
   "source": [
    "Шаги выполнения:  \n",
    "1. Посчитайте, сколько раз каждый из товаров добавляли в корзину"
   ]
  },
  {
   "cell_type": "markdown",
   "metadata": {
    "id": "Z-D1EvORv-m2"
   },
   "source": [
    "<details>\n",
    "<summary>&#9658; Нажмите сюда, чтобы увидеть подсказку</summary>\n",
    "  <p>\n",
    "\n",
    "**Используйте метод `value_counts()`**, применив его к столбцу `StockCode` датафрейма `top_retail_germany`. Этот метод возвращает серию, где индексы — это уникальные значения из столбца, а значения — это число их встречаний (количество строк с таким значением).\n",
    "      \n",
    "**Как использовать метод?** Например, применим метод `some_method()` к колонке `column_name` датафрейма `df`:\n",
    "```python\n",
    "df.column_name.some_method()\n",
    "```\n",
    "</p>\n",
    "</details>"
   ]
  },
  {
   "cell_type": "code",
   "execution_count": 36,
   "metadata": {
    "id": "kXQe5Rcdv-m2"
   },
   "outputs": [],
   "source": [
    "# Ваш код здесь\n",
    "\n"
   ]
  },
  {
   "cell_type": "markdown",
   "metadata": {
    "id": "eWvGuvQav-m3"
   },
   "source": [
    "2. Определите, какой товар добавляли в корзину чаще всего. Не берите в расчет услугу доставки, обозначенную как `POST`."
   ]
  },
  {
   "cell_type": "markdown",
   "metadata": {
    "id": "iTjR4NRov-m4"
   },
   "source": [
    "<details>\n",
    "<summary>&#9658; Нажмите сюда, чтобы увидеть подсказку</summary>\n",
    "  <p>\n",
    "\n",
    "Метод `value_counts()` сам сортирует значения от большего к меньшему, поэтому достаточно посмотреть на самый верхний код товара, за исключением `POST`\n",
    "</p>\n",
    "</details>"
   ]
  },
  {
   "cell_type": "markdown",
   "metadata": {
    "id": "AA2t3gU4v-m4"
   },
   "source": [
    "**Решение**"
   ]
  },
  {
   "cell_type": "code",
   "execution_count": 37,
   "metadata": {
    "id": "an2Wb1Lhv-m5",
    "outputId": "d66479ad-6863-4f38-887b-5e54a94bb645"
   },
   "outputs": [
    {
     "data": {
      "text/plain": [
       "POST     213\n",
       "22326     52\n",
       "22328     38\n",
       "22423     34\n",
       "20719     30\n",
       "        ... \n",
       "22429      1\n",
       "84819      1\n",
       "22863      1\n",
       "22040      1\n",
       "23369      1\n",
       "Name: StockCode, Length: 1158, dtype: int64"
      ]
     },
     "execution_count": 37,
     "metadata": {},
     "output_type": "execute_result"
    }
   ],
   "source": [
    "top_retail_germany.StockCode.value_counts()"
   ]
  },
  {
   "cell_type": "markdown",
   "metadata": {
    "id": "B-A78ZRYv-m6"
   },
   "source": [
    "**Ответ: 22326**"
   ]
  },
  {
   "cell_type": "markdown",
   "metadata": {
    "id": "p2njnDP1v-m7"
   },
   "source": [
    "## Шаг 7"
   ]
  },
  {
   "cell_type": "markdown",
   "metadata": {
    "id": "-ohcZBCYv-m7"
   },
   "source": [
    "Вернемся к анализу датафрейма `retail`. **Вам нужно найти 5 наиболее крупных по выручке заказов.**  Для этого сначала посчитайте сумму покупки для каждой транзакции, т.е. создайте колонку `Revenue` с суммой покупки, используя колонки `Quantity` и `UnitPrice`. Потом для каждого заказа (см.колонку `InvoiceNo`) суммируйте выручку всех входящих в него транзакций — это будет колонка `TotalRevenue`. Отсортируйте записи в порядке убывания `TotalRevenue`. **В качестве ответа укажите топ-5 заказов (см.колонку `InvoiceNo`) по сумме заказа (через запятую с пробелом, в том же порядке)**"
   ]
  },
  {
   "cell_type": "markdown",
   "metadata": {
    "id": "e_yddZMpv-m8"
   },
   "source": [
    "Шаги выполнения:  \n",
    "1. Используя колонки `Quantity` и `UnitPrice`, посчитайте сумму покупки для каждой транзакции и сохраните значения в колонку `Revenue`"
   ]
  },
  {
   "cell_type": "markdown",
   "metadata": {
    "id": "ApsPDusKv-m8"
   },
   "source": [
    "<details>\n",
    "<summary>&#9658; Нажмите сюда, чтобы увидеть подсказку</summary>\n",
    "  <p>\n",
    "\n",
    "**Используйте метод `assign()`**, применив его к датафрейму `retail`. В метод передайте аргумент формата `название колонки = её содержимое`. Здесь названия колонок нужно писать без кавычек. Результат применения метода сохраните в тот же датафрейм `retail`.\n",
    "      \n",
    "Помните, что значение выручки можно получить, умножив стоимость единицы товара на количество единиц этого товара.\n",
    "      \n",
    "**Как использовать метод?** Например применим метод `some_method()` к датафрейму `df` и результат сохраним в тот же датафрейм:\n",
    "```python\n",
    "df = df.some_method()\n",
    "```\n",
    "</p>\n",
    "</details>"
   ]
  },
  {
   "cell_type": "code",
   "execution_count": 38,
   "metadata": {
    "id": "D1MBJGsLv-m9"
   },
   "outputs": [],
   "source": [
    "# Ваш код здесь\n",
    "\n"
   ]
  },
  {
   "cell_type": "markdown",
   "metadata": {
    "id": "LxBak6K8v-m9"
   },
   "source": [
    "2. Для каждого заказа (см.колонку `InvoiceNo`) суммируйте выручку всех входящих в него транзакций"
   ]
  },
  {
   "cell_type": "markdown",
   "metadata": {
    "id": "eseI4Jjuv-m9"
   },
   "source": [
    "<details>\n",
    "<summary>&#9658; Нажмите сюда, чтобы увидеть подсказку</summary>\n",
    "  <p>\n",
    "\n",
    "**Сгруппируйте данные по столбцу `InvoiceNo`, используя метод `groupby()`**. Его вызов группирует строки по значениям в какой-то колонке (или комбинации значений из нескольких колонок). Например,\n",
    "\n",
    "```python\n",
    "df.groupby('col_1')\n",
    "```\n",
    "сгруппирует данные датафрейма `df` по колонке `col_1`. Сама по себе группировка не вычисляет что-то по группам.\n",
    "      \n",
    "**После группировки используйте метод `agg()`**, в котором примените агрегирующую функцию `sum` к колонке `Revenue`. Функция суммирует значения в колонке для каждого заказа.\n",
    "\n",
    "**Как использовать метод `agg()`?** Например, применим его к датафрейму `df` и посчитаем число строк в столбце `column_name`:\n",
    "```python\n",
    "df.agg({'column_name':'count'})\n",
    "```\n",
    "\n",
    "**Как использовать метод `agg()` после группировки?** Используйте цепочку методов, применив их друг за другом. Например:\n",
    "```python\n",
    "df.some_method_1().some_method_2()\n",
    "```      \n",
    "</p>\n",
    "</details>"
   ]
  },
  {
   "cell_type": "code",
   "execution_count": 39,
   "metadata": {
    "id": "tla9oLgkv-m-"
   },
   "outputs": [],
   "source": [
    "# Ваш код здесь\n",
    "\n"
   ]
  },
  {
   "cell_type": "markdown",
   "metadata": {
    "id": "pVlTcsouv-m-"
   },
   "source": [
    "3. В получившемся датафрейме переименуйте колонку `Revenue` в `TotalRevenue`"
   ]
  },
  {
   "cell_type": "markdown",
   "metadata": {
    "id": "ZHLfGKHZv-m_"
   },
   "source": [
    "<details>\n",
    "<summary>&#9658; Нажмите сюда, чтобы увидеть подсказку</summary>\n",
    "  <p>\n",
    "\n",
    "Для переименования колонки передайте в метод `rename()` в параметр `columns` словарь, где ключами являются старые названия колонок, а значениями - новые названия. Например:\n",
    "\n",
    "```python\n",
    "df = df.rename(columns={'old_name':'new_name'})\n",
    "```\n",
    "</p>\n",
    "</details>"
   ]
  },
  {
   "cell_type": "code",
   "execution_count": 40,
   "metadata": {
    "id": "2P19YoGZv-m_"
   },
   "outputs": [],
   "source": [
    "# Ваш код здесь\n",
    "\n"
   ]
  },
  {
   "cell_type": "markdown",
   "metadata": {
    "id": "MPR5RbZWv-nB"
   },
   "source": [
    "4. Отсортируйте записи в порядке убывания значений в колонке `TotalRevenue`"
   ]
  },
  {
   "cell_type": "markdown",
   "metadata": {
    "id": "RGkTUgGwv-nC"
   },
   "source": [
    "<details>\n",
    "<summary>&#9658; Нажмите сюда, чтобы увидеть подсказку</summary>\n",
    "  <p>\n",
    "\n",
    "Используйте метод `sort_values()`. Он сортирует строки по значениям в какой-то колонке. Например,\n",
    "\n",
    "```python\n",
    "df.sort_values('col_1', ascending=True)\n",
    "```\n",
    "\n",
    "отсортирует данные датафрейма `df` по значениям в колонке `col_1`. Параметр `ascending` отвечает за сортировку по возрастанию (True — по возрастанию, False — по убыванию)    \n",
    "\n",
    "</p>\n",
    "</details>"
   ]
  },
  {
   "cell_type": "code",
   "execution_count": 41,
   "metadata": {
    "id": "vb5m-zYdv-nC"
   },
   "outputs": [],
   "source": [
    "# Ваш код здесь\n",
    "\n"
   ]
  },
  {
   "cell_type": "markdown",
   "metadata": {
    "id": "1cLHDnAwv-nD"
   },
   "source": [
    "5. В отсортированном датафрейме возьмите только 5 первых записей"
   ]
  },
  {
   "cell_type": "markdown",
   "metadata": {
    "id": "ZgOMv5Gev-nD"
   },
   "source": [
    "<details>\n",
    "<summary>&#9658; Нажмите сюда, чтобы увидеть подсказку</summary>\n",
    "  <p>\n",
    "      \n",
    "Используйте метод `head()`. Например код\n",
    "```python\n",
    "df.head(10)\n",
    "```\n",
    "вернет первые 10 строк датафрейма `df`\n",
    "</p>\n",
    "</details>"
   ]
  },
  {
   "cell_type": "code",
   "execution_count": 42,
   "metadata": {
    "id": "jmyvsxBjv-nE"
   },
   "outputs": [],
   "source": [
    "# Ваш код здесь\n",
    "\n"
   ]
  },
  {
   "cell_type": "markdown",
   "metadata": {
    "id": "Eb8XXGaWv-nE"
   },
   "source": [
    "6. Скопируйте в LMS номера 5 оставшихся заказов"
   ]
  },
  {
   "cell_type": "markdown",
   "metadata": {
    "id": "A9Y1Pmf_v-nE"
   },
   "source": [
    "<details>\n",
    "<summary>&#9658; Нажмите сюда, чтобы увидеть подсказку</summary>\n",
    "  <p>\n",
    "\n",
    "**Если номера заказов у вас в индексах**, обратитесь к ним через атрибут `index`.\n",
    "      \n",
    "**Как обратиться к атрибуту датафрейма?** Для этого нужно написать переменную, где хранится датафрейм, поставить точку и написать название атрибута (без скобок!). Например:\n",
    "```python\n",
    "df.some_attribute\n",
    "```\n",
    "так мы обратимся к атрибуту `some_attribute` у датафрейма в переменной `df`       \n",
    "      \n",
    "**Если номера заказов у вас в колонке `InvoiceNo`,** примените к ней атрибут `values`. Например, применим атрибут `some_attribute` к колонке `col_name` датафрейма `df`\n",
    "\n",
    "```python\n",
    "df.col_name.some_attribute\n",
    "```\n",
    "\n",
    "**В LMS номера заказов скопируйте через запятую с пробелом, в том же порядке и без кавычек**    \n",
    "\n",
    "</p>\n",
    "</details>"
   ]
  },
  {
   "cell_type": "code",
   "execution_count": 43,
   "metadata": {
    "id": "6Ve599YVv-nF"
   },
   "outputs": [],
   "source": [
    "# Ваш код здесь\n",
    "\n"
   ]
  },
  {
   "cell_type": "markdown",
   "metadata": {
    "id": "-H1njqKbv-nG"
   },
   "source": [
    "**Решение**"
   ]
  },
  {
   "cell_type": "code",
   "execution_count": 44,
   "metadata": {
    "id": "uKHliMt5v-nG"
   },
   "outputs": [],
   "source": [
    "retail = retail.assign(Revenue = retail.UnitPrice * retail.Quantity)"
   ]
  },
  {
   "cell_type": "code",
   "execution_count": 45,
   "metadata": {
    "id": "sNLide4-v-nH",
    "outputId": "24a6db28-4775-4671-e83c-f187b0248423"
   },
   "outputs": [
    {
     "data": {
      "text/html": [
       "<div>\n",
       "<style scoped>\n",
       "    .dataframe tbody tr th:only-of-type {\n",
       "        vertical-align: middle;\n",
       "    }\n",
       "\n",
       "    .dataframe tbody tr th {\n",
       "        vertical-align: top;\n",
       "    }\n",
       "\n",
       "    .dataframe thead th {\n",
       "        text-align: right;\n",
       "    }\n",
       "</style>\n",
       "<table border=\"1\" class=\"dataframe\">\n",
       "  <thead>\n",
       "    <tr style=\"text-align: right;\">\n",
       "      <th></th>\n",
       "      <th>InvoiceNo</th>\n",
       "      <th>StockCode</th>\n",
       "      <th>Description</th>\n",
       "      <th>Quantity</th>\n",
       "      <th>InvoiceDate</th>\n",
       "      <th>UnitPrice</th>\n",
       "      <th>CustomerID</th>\n",
       "      <th>Country</th>\n",
       "      <th>Revenue</th>\n",
       "    </tr>\n",
       "  </thead>\n",
       "  <tbody>\n",
       "    <tr>\n",
       "      <th>0</th>\n",
       "      <td>536365</td>\n",
       "      <td>85123A</td>\n",
       "      <td>WHITE HANGING HEART T-LIGHT HOLDER</td>\n",
       "      <td>6</td>\n",
       "      <td>12/1/2010 8:26</td>\n",
       "      <td>2.55</td>\n",
       "      <td>17850.0</td>\n",
       "      <td>United Kingdom</td>\n",
       "      <td>15.30</td>\n",
       "    </tr>\n",
       "    <tr>\n",
       "      <th>1</th>\n",
       "      <td>536365</td>\n",
       "      <td>71053</td>\n",
       "      <td>WHITE METAL LANTERN</td>\n",
       "      <td>6</td>\n",
       "      <td>12/1/2010 8:26</td>\n",
       "      <td>3.39</td>\n",
       "      <td>17850.0</td>\n",
       "      <td>United Kingdom</td>\n",
       "      <td>20.34</td>\n",
       "    </tr>\n",
       "    <tr>\n",
       "      <th>2</th>\n",
       "      <td>536365</td>\n",
       "      <td>84406B</td>\n",
       "      <td>CREAM CUPID HEARTS COAT HANGER</td>\n",
       "      <td>8</td>\n",
       "      <td>12/1/2010 8:26</td>\n",
       "      <td>2.75</td>\n",
       "      <td>17850.0</td>\n",
       "      <td>United Kingdom</td>\n",
       "      <td>22.00</td>\n",
       "    </tr>\n",
       "    <tr>\n",
       "      <th>3</th>\n",
       "      <td>536365</td>\n",
       "      <td>84029G</td>\n",
       "      <td>KNITTED UNION FLAG HOT WATER BOTTLE</td>\n",
       "      <td>6</td>\n",
       "      <td>12/1/2010 8:26</td>\n",
       "      <td>3.39</td>\n",
       "      <td>17850.0</td>\n",
       "      <td>United Kingdom</td>\n",
       "      <td>20.34</td>\n",
       "    </tr>\n",
       "    <tr>\n",
       "      <th>4</th>\n",
       "      <td>536365</td>\n",
       "      <td>84029E</td>\n",
       "      <td>RED WOOLLY HOTTIE WHITE HEART.</td>\n",
       "      <td>6</td>\n",
       "      <td>12/1/2010 8:26</td>\n",
       "      <td>3.39</td>\n",
       "      <td>17850.0</td>\n",
       "      <td>United Kingdom</td>\n",
       "      <td>20.34</td>\n",
       "    </tr>\n",
       "  </tbody>\n",
       "</table>\n",
       "</div>"
      ],
      "text/plain": [
       "  InvoiceNo StockCode                          Description  Quantity  \\\n",
       "0    536365    85123A   WHITE HANGING HEART T-LIGHT HOLDER         6   \n",
       "1    536365     71053                  WHITE METAL LANTERN         6   \n",
       "2    536365    84406B       CREAM CUPID HEARTS COAT HANGER         8   \n",
       "3    536365    84029G  KNITTED UNION FLAG HOT WATER BOTTLE         6   \n",
       "4    536365    84029E       RED WOOLLY HOTTIE WHITE HEART.         6   \n",
       "\n",
       "      InvoiceDate  UnitPrice  CustomerID         Country  Revenue  \n",
       "0  12/1/2010 8:26       2.55     17850.0  United Kingdom    15.30  \n",
       "1  12/1/2010 8:26       3.39     17850.0  United Kingdom    20.34  \n",
       "2  12/1/2010 8:26       2.75     17850.0  United Kingdom    22.00  \n",
       "3  12/1/2010 8:26       3.39     17850.0  United Kingdom    20.34  \n",
       "4  12/1/2010 8:26       3.39     17850.0  United Kingdom    20.34  "
      ]
     },
     "execution_count": 45,
     "metadata": {},
     "output_type": "execute_result"
    }
   ],
   "source": [
    "retail.head()"
   ]
  },
  {
   "cell_type": "code",
   "execution_count": 46,
   "metadata": {
    "id": "SyB48Cixv-nI"
   },
   "outputs": [],
   "source": [
    "top_revenue = retail.groupby('InvoiceNo', as_index=False)\\\n",
    "    .agg({'Revenue':'sum'})\\\n",
    "    .rename(columns={'Revenue':'TotalRevenue'})\\\n",
    "    .sort_values('TotalRevenue', ascending=False)\\\n",
    "    .head()"
   ]
  },
  {
   "cell_type": "code",
   "execution_count": 47,
   "metadata": {
    "id": "p7kccc8_v-nJ",
    "outputId": "28a58544-3e0c-4ed5-b1a7-348b88adb020"
   },
   "outputs": [
    {
     "data": {
      "text/html": [
       "<div>\n",
       "<style scoped>\n",
       "    .dataframe tbody tr th:only-of-type {\n",
       "        vertical-align: middle;\n",
       "    }\n",
       "\n",
       "    .dataframe tbody tr th {\n",
       "        vertical-align: top;\n",
       "    }\n",
       "\n",
       "    .dataframe thead th {\n",
       "        text-align: right;\n",
       "    }\n",
       "</style>\n",
       "<table border=\"1\" class=\"dataframe\">\n",
       "  <thead>\n",
       "    <tr style=\"text-align: right;\">\n",
       "      <th></th>\n",
       "      <th>InvoiceNo</th>\n",
       "      <th>TotalRevenue</th>\n",
       "    </tr>\n",
       "  </thead>\n",
       "  <tbody>\n",
       "    <tr>\n",
       "      <th>22025</th>\n",
       "      <td>581483</td>\n",
       "      <td>168469.60</td>\n",
       "    </tr>\n",
       "    <tr>\n",
       "      <th>2303</th>\n",
       "      <td>541431</td>\n",
       "      <td>77183.60</td>\n",
       "    </tr>\n",
       "    <tr>\n",
       "      <th>18776</th>\n",
       "      <td>574941</td>\n",
       "      <td>52940.94</td>\n",
       "    </tr>\n",
       "    <tr>\n",
       "      <th>19468</th>\n",
       "      <td>576365</td>\n",
       "      <td>50653.91</td>\n",
       "    </tr>\n",
       "    <tr>\n",
       "      <th>9741</th>\n",
       "      <td>556444</td>\n",
       "      <td>38970.00</td>\n",
       "    </tr>\n",
       "  </tbody>\n",
       "</table>\n",
       "</div>"
      ],
      "text/plain": [
       "      InvoiceNo  TotalRevenue\n",
       "22025    581483     168469.60\n",
       "2303     541431      77183.60\n",
       "18776    574941      52940.94\n",
       "19468    576365      50653.91\n",
       "9741     556444      38970.00"
      ]
     },
     "execution_count": 47,
     "metadata": {},
     "output_type": "execute_result"
    }
   ],
   "source": [
    "top_revenue"
   ]
  },
  {
   "cell_type": "code",
   "execution_count": 48,
   "metadata": {
    "id": "K5sLu19Vv-nK",
    "outputId": "150ffe34-9f77-4d4a-d2b9-247af8cecec2"
   },
   "outputs": [
    {
     "data": {
      "text/plain": [
       "array(['581483', '541431', '574941', '576365', '556444'], dtype=object)"
      ]
     },
     "execution_count": 48,
     "metadata": {},
     "output_type": "execute_result"
    }
   ],
   "source": [
    "top_revenue['InvoiceNo'].values"
   ]
  },
  {
   "cell_type": "markdown",
   "metadata": {
    "id": "7hfblYJVv-nL"
   },
   "source": [
    "**Ответ: 581483, 541431, 574941, 576365, 556444**"
   ]
  },
  {
   "cell_type": "markdown",
   "metadata": {
    "id": "eLwt-AOtv-nL"
   },
   "source": [
    "# Часть 2"
   ]
  },
  {
   "cell_type": "markdown",
   "metadata": {
    "id": "-Veepq2ev-nM"
   },
   "source": [
    "Работать с прошлыми данными вы закончили. Да, иногда приходится решать разовые задачи (их ещё называют ad-hoc задачами) и не редкость, что этап подготовки данных занимает больше времени, чем сам их анализ.\n",
    "\n",
    "**Переключаемся на работу с новым датасетом `transaction_data.csv`. Ваш коллега описывает данные следующим образом:**\n",
    "\n",
    "- date – дата (2020-03-02 00:00:00 – 2020-03-02 01:29:05)  \n",
    "- name – имя пользователя  \n",
    "- transaction – статус транзакции  \n",
    "- minute – сколько минут прошло с начала дня (эта колонка будет доступна в данных с определенного шага)\n",
    "\n",
    "Каждая строка — это отдельная транзакция."
   ]
  },
  {
   "cell_type": "markdown",
   "metadata": {
    "id": "1yUoczYAv-nM"
   },
   "source": [
    "## Шаг 8"
   ]
  },
  {
   "cell_type": "markdown",
   "metadata": {
    "id": "RGvUC9zev-nN"
   },
   "source": [
    "Как всегда, начнем работу со знакомства с набором данных, проверим их полноту и получим общее представление о структуре данных. Загрузите датасет `transaction_data.csv` и посмотрите на его содержимое. Проверьте размер таблицы, типы данных и описательную статистику. **Определите, сколько в датасете пропущенных значений?**"
   ]
  },
  {
   "cell_type": "markdown",
   "metadata": {
    "id": "fY4ADWBVv-nN"
   },
   "source": [
    "Шаги выполнения:  \n",
    "1. Загрузите csv файл к уроку в свою папку в JupyterНub\n",
    "2. Прочитайте этот датасет, сохранив результат в переменную `data`"
   ]
  },
  {
   "cell_type": "markdown",
   "metadata": {
    "id": "hN3UOi_Uv-nN"
   },
   "source": [
    "<details>\n",
    "<summary>&#9658; Нажмите сюда, чтобы увидеть подсказку</summary>\n",
    "  <p>\n",
    "      \n",
    "Данные находятся в файле формата CSV. Для их загрузки воспользуйтесь функцией `pd.read_csv()`, передав в качестве аргумента путь к файлу. Например,\n",
    "```python\n",
    "df = pd.read_csv('data.csv')\n",
    "```\n",
    "считает файл `data.csv`, хранящийся в той же папке, что и юпитер ноутбук, в котором вы сейчас работаете.\n",
    "</p>\n",
    "</details>"
   ]
  },
  {
   "cell_type": "code",
   "execution_count": 49,
   "metadata": {
    "id": "QGFhN3YWv-nN"
   },
   "outputs": [],
   "source": [
    "# Ваш код здесь\n",
    "\n"
   ]
  },
  {
   "cell_type": "markdown",
   "metadata": {
    "id": "Gs9mbA1Wv-nO"
   },
   "source": [
    "3. Посмотрите на содержимое датафрейма, проверьте его размер"
   ]
  },
  {
   "cell_type": "markdown",
   "metadata": {
    "id": "NpaOuHTuv-nO"
   },
   "source": [
    "<details>\n",
    "<summary>&#9658; Нажмите сюда, чтобы увидеть подсказку</summary>\n",
    "  <p>\n",
    "      \n",
    "**Как посмотреть на содержимое датафрейма?** Используйте метод `head()`.\n",
    "\n",
    "**Как проверить размер датафрейма?** Используйте атрибут `shape`, чтобы узнать количество строк и столбцов. Этот атрибут возвращает кортеж, первый элемент которого указывает на количество строк, а второй — на количество столбцов в датафрейме.  \n",
    "      \n",
    "**Как обратиться к атрибуту датафрейма?** Для этого нужно написать переменную, где хранится датафрейм, поставить точку и написать название атрибута (без скобок!). Например:\n",
    "```python\n",
    "df.some_attribute\n",
    "```\n",
    "так мы обратимся к атрибуту `some_attribute` у датафрейма в переменной `df`.\n",
    "      \n",
    "**Как использовать метод?** Например, применим метод `some_method()` к датафрейму `df`:\n",
    "```python\n",
    "df.some_method()\n",
    "```\n",
    "</p>\n",
    "</details>"
   ]
  },
  {
   "cell_type": "code",
   "execution_count": 50,
   "metadata": {
    "id": "4BWqadDzv-nQ"
   },
   "outputs": [],
   "source": [
    "# Ваш код здесь\n",
    "\n"
   ]
  },
  {
   "cell_type": "markdown",
   "metadata": {
    "id": "jvUy0LD9v-nR"
   },
   "source": [
    "4. Определите типы данных"
   ]
  },
  {
   "cell_type": "markdown",
   "metadata": {
    "id": "WnuEewLBv-nR"
   },
   "source": [
    "<details>\n",
    "<summary>&#9658; Нажмите сюда, чтобы увидеть подсказку</summary>\n",
    "  <p>\n",
    "Есть 2 способа узнать типы данных:\n",
    "      \n",
    "1) Используйте атрибут `dtypes`. Он возвращает серию, индексами которой являются названия столбцов, а значениями — тип данных в этих столбцах.  \n",
    "\n",
    "Для обращения к атрибуту датафрейма нужно написать переменную, где хранится датафрейм, поставить точку и написать название атрибута (без скобок!). Например:\n",
    "```python\n",
    "df.some_attribute\n",
    "```\n",
    "так мы обратимся к атрибуту `some_attribute` у датафрейма в переменной `df`\n",
    "      \n",
    "2) Либо примените к датафрейму метод `info()`, который выводит подробную информацию о датафрейме и его колонках.\n",
    "      \n",
    "Как использовать метод? Например применим метод `some_method()` к датафрейму `df`:\n",
    "```python\n",
    "df.some_method()\n",
    "```\n",
    "</p>\n",
    "</details>"
   ]
  },
  {
   "cell_type": "code",
   "execution_count": 51,
   "metadata": {
    "id": "e5fcttSLv-nS"
   },
   "outputs": [],
   "source": [
    "# Ваш код здесь\n",
    "\n"
   ]
  },
  {
   "cell_type": "markdown",
   "metadata": {
    "id": "ny-Nh3Kov-nT"
   },
   "source": [
    "5. Выведите описательную статистику"
   ]
  },
  {
   "cell_type": "markdown",
   "metadata": {
    "id": "7refHvowv-nT"
   },
   "source": [
    "<details>\n",
    "<summary>&#9658; Нажмите сюда, чтобы увидеть подсказку</summary>\n",
    "  <p>\n",
    "      \n",
    "**Как получить описательную статистику по столбцам?** Используйте метод `describe()`. Если в датафрейме только числовые или только категориальные переменные (тип `object`), метод выведет описательную статистику для них. А если есть ещё и переменные другого типа, то чтобы вывести описательную статистику по всем колонкам, используйте параметр `include=all`\n",
    "      \n",
    "**Как использовать метод?** Например применим метод `some_method()` к датафрейму `df`:\n",
    "```python\n",
    "df.some_method()\n",
    "```\n",
    "</p>\n",
    "</details>"
   ]
  },
  {
   "cell_type": "code",
   "execution_count": 52,
   "metadata": {
    "id": "hTEDPbjbv-nT"
   },
   "outputs": [],
   "source": [
    "# Ваш код здесь\n",
    "\n"
   ]
  },
  {
   "cell_type": "markdown",
   "metadata": {
    "id": "KINXbkTFv-nU"
   },
   "source": [
    "6. Посчитайте, сколько в датасете пропущенных значений"
   ]
  },
  {
   "cell_type": "markdown",
   "metadata": {
    "id": "i-8ROt_nv-nU"
   },
   "source": [
    "<details>\n",
    "<summary>&#9658; Нажмите сюда, чтобы увидеть подсказку</summary>\n",
    "  <p>\n",
    "      \n",
    "**Есть два способа узнать, есть ли в данных пропущенные значения:**\n",
    "\n",
    "**1) Примените к датафрейму метод `info()`.** Посмотрите на значение в столбце `Non-Null Count` — оно говорит о том, сколько **не пустых** значений есть в каждой колонке. Если это число совпадает с количеством строк всего датафрейма — пустых значений нет. А если строк во всем датафрейме больше, чем это число — то пустые значения в этой колонке есть, их количество равно разнице между числом строк всего датафрейма и числом не пустых строк в этой колонке.\n",
    "      \n",
    "**Как использовать метод?** Например, применим метод `some_method()` к датафрейму `df`:\n",
    "```python\n",
    "df.some_method()\n",
    "```\n",
    "      \n",
    "**2) Примените к датафрейму два метода друг за другом: `isna()` и `sum()`.** Первым используйте метод `isna()`, вторым — `sum()`\n",
    "      \n",
    "**Как применить к датафрейму два метода друг за другом?** Используйте цепочку методов: напишите два метода подряд, поставив перед каждым точку. Например:\n",
    "```python\n",
    "df.some_method_1().some_method_2()\n",
    "```   \n",
    "\n",
    "</p>\n",
    "</details>"
   ]
  },
  {
   "cell_type": "code",
   "execution_count": 53,
   "metadata": {
    "id": "Us1oBXZYv-nV"
   },
   "outputs": [],
   "source": [
    "# Ваш код здесь\n",
    "\n"
   ]
  },
  {
   "cell_type": "markdown",
   "metadata": {
    "id": "tYMCFkfHv-nV"
   },
   "source": [
    "**Решение**"
   ]
  },
  {
   "cell_type": "code",
   "execution_count": 54,
   "metadata": {
    "id": "ARQ9Z0C2v-no"
   },
   "outputs": [],
   "source": [
    "data = pd.read_csv('transaction_data.csv')"
   ]
  },
  {
   "cell_type": "code",
   "execution_count": 55,
   "metadata": {
    "id": "lZ84G7ymv-np",
    "outputId": "a8c6e397-6f23-47f0-bfd5-b775e6b3ccb4"
   },
   "outputs": [
    {
     "data": {
      "text/html": [
       "<div>\n",
       "<style scoped>\n",
       "    .dataframe tbody tr th:only-of-type {\n",
       "        vertical-align: middle;\n",
       "    }\n",
       "\n",
       "    .dataframe tbody tr th {\n",
       "        vertical-align: top;\n",
       "    }\n",
       "\n",
       "    .dataframe thead th {\n",
       "        text-align: right;\n",
       "    }\n",
       "</style>\n",
       "<table border=\"1\" class=\"dataframe\">\n",
       "  <thead>\n",
       "    <tr style=\"text-align: right;\">\n",
       "      <th></th>\n",
       "      <th>date</th>\n",
       "      <th>name</th>\n",
       "      <th>transaction</th>\n",
       "    </tr>\n",
       "  </thead>\n",
       "  <tbody>\n",
       "    <tr>\n",
       "      <th>0</th>\n",
       "      <td>2020-03-02 00:37:20</td>\n",
       "      <td>Ekaterina_Petrova</td>\n",
       "      <td>cancelled</td>\n",
       "    </tr>\n",
       "    <tr>\n",
       "      <th>1</th>\n",
       "      <td>2020-03-02 00:59:09</td>\n",
       "      <td>Irina_Fedorova</td>\n",
       "      <td>successfull</td>\n",
       "    </tr>\n",
       "    <tr>\n",
       "      <th>2</th>\n",
       "      <td>2020-03-02 01:06:14</td>\n",
       "      <td>Ekaterina_Smirnova</td>\n",
       "      <td>successfull</td>\n",
       "    </tr>\n",
       "    <tr>\n",
       "      <th>3</th>\n",
       "      <td>2020-03-02 00:02:58</td>\n",
       "      <td>Lolita_Polyanova</td>\n",
       "      <td>cancelled</td>\n",
       "    </tr>\n",
       "    <tr>\n",
       "      <th>4</th>\n",
       "      <td>2020-03-02 00:17:52</td>\n",
       "      <td>Julia_Smirnova</td>\n",
       "      <td>cancelled</td>\n",
       "    </tr>\n",
       "  </tbody>\n",
       "</table>\n",
       "</div>"
      ],
      "text/plain": [
       "                  date                name  transaction\n",
       "0  2020-03-02 00:37:20   Ekaterina_Petrova    cancelled\n",
       "1  2020-03-02 00:59:09      Irina_Fedorova  successfull\n",
       "2  2020-03-02 01:06:14  Ekaterina_Smirnova  successfull\n",
       "3  2020-03-02 00:02:58    Lolita_Polyanova    cancelled\n",
       "4  2020-03-02 00:17:52      Julia_Smirnova    cancelled"
      ]
     },
     "execution_count": 55,
     "metadata": {},
     "output_type": "execute_result"
    }
   ],
   "source": [
    "data.head()"
   ]
  },
  {
   "cell_type": "code",
   "execution_count": 56,
   "metadata": {
    "id": "XwkQ_6j2v-np",
    "outputId": "bc89e0ef-c513-42a3-c1d0-c42cdbac2e5a"
   },
   "outputs": [
    {
     "data": {
      "text/plain": [
       "(5315, 3)"
      ]
     },
     "execution_count": 56,
     "metadata": {},
     "output_type": "execute_result"
    }
   ],
   "source": [
    "data.shape"
   ]
  },
  {
   "cell_type": "code",
   "execution_count": 57,
   "metadata": {
    "id": "nbdCK5bXv-nq",
    "outputId": "d09b0076-1ffa-4304-ef8f-c91ef3e9b6b6"
   },
   "outputs": [
    {
     "name": "stdout",
     "output_type": "stream",
     "text": [
      "<class 'pandas.core.frame.DataFrame'>\n",
      "RangeIndex: 5315 entries, 0 to 5314\n",
      "Data columns (total 3 columns):\n",
      " #   Column       Non-Null Count  Dtype \n",
      "---  ------       --------------  ----- \n",
      " 0   date         5315 non-null   object\n",
      " 1   name         5315 non-null   object\n",
      " 2   transaction  5315 non-null   object\n",
      "dtypes: object(3)\n",
      "memory usage: 124.7+ KB\n"
     ]
    }
   ],
   "source": [
    "data.info()"
   ]
  },
  {
   "cell_type": "code",
   "execution_count": 58,
   "metadata": {
    "id": "zhB4G9-Cv-nq",
    "outputId": "b333bf19-65a2-429a-c921-0e45732e42b4"
   },
   "outputs": [
    {
     "data": {
      "text/html": [
       "<div>\n",
       "<style scoped>\n",
       "    .dataframe tbody tr th:only-of-type {\n",
       "        vertical-align: middle;\n",
       "    }\n",
       "\n",
       "    .dataframe tbody tr th {\n",
       "        vertical-align: top;\n",
       "    }\n",
       "\n",
       "    .dataframe thead th {\n",
       "        text-align: right;\n",
       "    }\n",
       "</style>\n",
       "<table border=\"1\" class=\"dataframe\">\n",
       "  <thead>\n",
       "    <tr style=\"text-align: right;\">\n",
       "      <th></th>\n",
       "      <th>date</th>\n",
       "      <th>name</th>\n",
       "      <th>transaction</th>\n",
       "    </tr>\n",
       "  </thead>\n",
       "  <tbody>\n",
       "    <tr>\n",
       "      <th>count</th>\n",
       "      <td>5315</td>\n",
       "      <td>5315</td>\n",
       "      <td>5315</td>\n",
       "    </tr>\n",
       "    <tr>\n",
       "      <th>unique</th>\n",
       "      <td>3373</td>\n",
       "      <td>56</td>\n",
       "      <td>3</td>\n",
       "    </tr>\n",
       "    <tr>\n",
       "      <th>top</th>\n",
       "      <td>2020-03-02 00:33:10</td>\n",
       "      <td>Masha_Ozerova</td>\n",
       "      <td>successfull</td>\n",
       "    </tr>\n",
       "    <tr>\n",
       "      <th>freq</th>\n",
       "      <td>6</td>\n",
       "      <td>112</td>\n",
       "      <td>3692</td>\n",
       "    </tr>\n",
       "  </tbody>\n",
       "</table>\n",
       "</div>"
      ],
      "text/plain": [
       "                       date           name  transaction\n",
       "count                  5315           5315         5315\n",
       "unique                 3373             56            3\n",
       "top     2020-03-02 00:33:10  Masha_Ozerova  successfull\n",
       "freq                      6            112         3692"
      ]
     },
     "execution_count": 58,
     "metadata": {},
     "output_type": "execute_result"
    }
   ],
   "source": [
    "data.describe()"
   ]
  },
  {
   "cell_type": "code",
   "execution_count": 59,
   "metadata": {
    "id": "ZekC-4mPv-ns",
    "outputId": "595d6587-66fa-43c3-bafe-e795f5e63d7c"
   },
   "outputs": [
    {
     "data": {
      "text/plain": [
       "date           0\n",
       "name           0\n",
       "transaction    0\n",
       "dtype: int64"
      ]
     },
     "execution_count": 59,
     "metadata": {},
     "output_type": "execute_result"
    }
   ],
   "source": [
    "data.isna().sum()"
   ]
  },
  {
   "cell_type": "markdown",
   "metadata": {
    "id": "LRlCtoJlv-ns"
   },
   "source": [
    "**Ответ: 0**"
   ]
  },
  {
   "cell_type": "markdown",
   "metadata": {
    "id": "Lphtfsq8v-ns"
   },
   "source": [
    "## Шаг 9"
   ]
  },
  {
   "cell_type": "markdown",
   "metadata": {
    "id": "gMLMavFOv-ns"
   },
   "source": [
    "Ваша задача — проанализировать транзакции пользователей с точки зрения статуса транзакций. **Для начала определите количество транзакций того или иного статуса и визуально представьте эту информацию с помощью графика барплот.** Подумайте, является ли проблемой количество транзакций со статусом `error` (ошибка)?\n",
    "\n",
    "Расположите статусы в порядке убывания числа относящихся к ним записям (от большего к меньшему):  \n",
    "1. cancelled  \n",
    "2. error  \n",
    "3. successfull"
   ]
  },
  {
   "cell_type": "markdown",
   "metadata": {
    "id": "6g1qlfMzv-ns"
   },
   "source": [
    "Шаги выполнения:  \n",
    "1. Посчитайте количество записей для каждого статуса транзакций"
   ]
  },
  {
   "cell_type": "markdown",
   "metadata": {
    "id": "-IHzCfzbv-ns"
   },
   "source": [
    "<details>\n",
    "<summary>&#9658; Нажмите сюда, чтобы увидеть подсказку</summary>\n",
    "  <p>\n",
    "\n",
    "**Используйте метод `value_counts()`**, применив его к столбцу `transaction` датафрейма `data`. Этот метод возвращает серию, где индексы — это уникальные значения из столбца, а значения — это число их встречаний (количество строк с таким значением).\n",
    "      \n",
    "**Как использовать метод?** Например применим метод `some_method()` к колонке `column_name` датафрейма `df`:\n",
    "```python\n",
    "df.column_name.some_method()\n",
    "```\n",
    "</p>\n",
    "</details>"
   ]
  },
  {
   "cell_type": "code",
   "execution_count": 60,
   "metadata": {
    "id": "v_kSyDjVv-ns"
   },
   "outputs": [],
   "source": [
    "# Ваш код здесь\n",
    "\n"
   ]
  },
  {
   "cell_type": "markdown",
   "metadata": {
    "id": "m2xVI3puv-nt"
   },
   "source": [
    "2. Импортируйте библиотеку `seaborn`"
   ]
  },
  {
   "cell_type": "markdown",
   "metadata": {
    "id": "uIHcGqw6v-nt"
   },
   "source": [
    "<details>\n",
    "<summary>&#9658; Нажмите сюда, чтобы увидеть подсказку</summary>\n",
    "  <p>\n",
    "      \n",
    "Для импорта библиотеки напишите\n",
    "```python\n",
    "import library as shortcut\n",
    "```\n",
    "где вместо `library` подставьте название библиотеки, а вместо `shortcut` — её общераспространённое сокращённое название.\n",
    "</p>\n",
    "</details>"
   ]
  },
  {
   "cell_type": "code",
   "execution_count": 61,
   "metadata": {
    "id": "am3DNDBNv-nt"
   },
   "outputs": [],
   "source": [
    "# Ваш код здесь\n",
    "\n"
   ]
  },
  {
   "cell_type": "markdown",
   "metadata": {
    "id": "7J77OCmcv-nu"
   },
   "source": [
    "3. Постройте барплот с помощью функции `barplot` из библиотеки `seaborn` так, что по оси `x` будет расположено название статуса, а по оси `y` – количество транзакций с таким статусом"
   ]
  },
  {
   "cell_type": "markdown",
   "metadata": {
    "id": "Mepw-WC5v-nu"
   },
   "source": [
    "<details>\n",
    "<summary>&#9658; Нажмите сюда, чтобы увидеть подсказку</summary>\n",
    "  <p>\n",
    "\n",
    "Передайте в функцию `sns.barplot()` следующие параметры:  \n",
    "      `x` — индексы (`index`) серии, с названиями статусов  \n",
    "      `y` — значения (`values`) серии, с количеством транзакций для каждого статуса\n",
    "      \n",
    "Например:      \n",
    "```python\n",
    "sns.barplot(x=series.index, y=series.values)\n",
    "```\n",
    "нарисует график на основе данных из серии `series` так, что по оси х будут идти названия из индекса, а по оси y — соответствующие им значения.\n",
    "</p>\n",
    "</details>"
   ]
  },
  {
   "cell_type": "code",
   "execution_count": 62,
   "metadata": {
    "id": "L4Yl-VX-v-nu"
   },
   "outputs": [],
   "source": [
    "# Ваш код здесь\n",
    "\n"
   ]
  },
  {
   "cell_type": "markdown",
   "metadata": {
    "id": "7LUMULXlv-nw"
   },
   "source": [
    "**Решение**"
   ]
  },
  {
   "cell_type": "code",
   "execution_count": 63,
   "metadata": {
    "id": "bvwM94RQv-nx"
   },
   "outputs": [],
   "source": [
    "trans_vc = data.transaction.value_counts()"
   ]
  },
  {
   "cell_type": "code",
   "execution_count": 64,
   "metadata": {
    "id": "goD4fBR4v-nx",
    "outputId": "83a8c796-db9d-4088-926f-6e42cacb3265"
   },
   "outputs": [
    {
     "data": {
      "text/plain": [
       "successfull    3692\n",
       "cancelled      1619\n",
       "error             4\n",
       "Name: transaction, dtype: int64"
      ]
     },
     "execution_count": 64,
     "metadata": {},
     "output_type": "execute_result"
    }
   ],
   "source": [
    "trans_vc"
   ]
  },
  {
   "cell_type": "code",
   "execution_count": 65,
   "metadata": {
    "id": "C2HrsCH6v-ny"
   },
   "outputs": [],
   "source": [
    "import seaborn as sns"
   ]
  },
  {
   "cell_type": "code",
   "execution_count": 66,
   "metadata": {
    "id": "mU7MGVt9v-ny",
    "outputId": "ef602f05-ce76-473f-e2dd-32721d44ddd1"
   },
   "outputs": [
    {
     "data": {
      "text/plain": [
       "<matplotlib.axes._subplots.AxesSubplot at 0x7fa685d1f278>"
      ]
     },
     "execution_count": 66,
     "metadata": {},
     "output_type": "execute_result"
    },
    {
     "data": {
      "image/png": "[encoded data removed]",
      "text/plain": [
       "<Figure size 432x288 with 1 Axes>"
      ]
     },
     "metadata": {
      "needs_background": "light"
     },
     "output_type": "display_data"
    }
   ],
   "source": [
    "sns.barplot(x=trans_vc.index, y=trans_vc.values)"
   ]
  },
  {
   "cell_type": "markdown",
   "metadata": {
    "id": "PmZQgSDtv-nz"
   },
   "source": [
    "**Ответ:**  \n",
    "1. successfull\n",
    "2. cancelled\n",
    "3. error  "
   ]
  },
  {
   "cell_type": "markdown",
   "metadata": {
    "id": "boo7VxRrv-nz"
   },
   "source": [
    "## Шаг 10"
   ]
  },
  {
   "cell_type": "markdown",
   "metadata": {
    "id": "a1Rl-fNrv-nz"
   },
   "source": [
    "**А теперь посчитайте, сколько успешных транзакций совершил каждый пользователь.**\n",
    "\n",
    "**Выберите одно или несколько верных утверждений:**  \n",
    "- Пользователи в среднем совершили примерно по 66 транзакций  \n",
    "- Максимальное число транзакций – 82  \n",
    "- Пользователи в среднем совершили по 64 транзакции  \n",
    "- Примерно 25% пользователей совершили менее 61 транзакции  \n",
    "- Примерно 25% пользователей совершили более 61 транзакции  \n",
    "- Пользователи в среднем совершили примерно по 56 транзакций  \n",
    "- Максимальное число транзакций – 112  \n",
    "- Пользователи в среднем совершили примерно по 94 транзакции"
   ]
  },
  {
   "cell_type": "markdown",
   "metadata": {
    "id": "FOhr1Qopv-nz"
   },
   "source": [
    "Шаги выполнения:  \n",
    "1. Оставьте только записи об успешных транзакциях (см.колонку `transaction`)"
   ]
  },
  {
   "cell_type": "markdown",
   "metadata": {
    "id": "6Xerg_aUv-n0"
   },
   "source": [
    "<details>\n",
    "<summary>&#9658; Нажмите сюда, чтобы увидеть подсказку</summary>\n",
    "  <p>\n",
    "\n",
    "Чтобы отобрать только нужные записи, есть два способа:\n",
    "\n",
    "1) Используйте аксессор `loc[]`, внутри которого напишите условие, что значение в столбце `transaction` датафрейма `data` равно `'successfull'`.\n",
    "\n",
    "Как использовать аксессор? Например, код\n",
    "```python\n",
    "df.loc[df[\"col_1\"] > 35]\n",
    "```\n",
    "вернет только те строки датафрейма `df`, где значения в колонке `col_1` больше 35.\n",
    "\n",
    "2) Используйте метод `query()`, внутри которого напишите строку с условием, что значение в столбце `transaction` датафрейма `data` равно `'successfull'`. Учтите, что условие нужно писать в кавычках, а название колонки — без кавычек.\n",
    "\n",
    "Как использовать метод? Например применим метод `some_method()` к датафрейму `df`:\n",
    "```python\n",
    "df.some_method()\n",
    "```\n",
    "      \n",
    "Помните, что один знак равно означает присвоение, а два — проверку на равенство\n",
    "      \n",
    "</p>\n",
    "</details>"
   ]
  },
  {
   "cell_type": "code",
   "execution_count": 67,
   "metadata": {
    "id": "dlBPy4B8v-n0"
   },
   "outputs": [],
   "source": [
    "# Ваш код здесь\n",
    "\n"
   ]
  },
  {
   "cell_type": "markdown",
   "metadata": {
    "id": "orl1uglRv-n0"
   },
   "source": [
    "2. Посчитайте, сколько успешных транзакций совершил каждый пользователь"
   ]
  },
  {
   "cell_type": "markdown",
   "metadata": {
    "id": "OnOTbhqDv-n0"
   },
   "source": [
    "<details>\n",
    "<summary>&#9658; Нажмите сюда, чтобы увидеть подсказку</summary>\n",
    "  <p>\n",
    "\n",
    "**Сгруппируйте данные по столбцу `name`, используя метод `groupby()`**. Его вызов группирует строки по значениям в какой-то колонке (или комбинации значений из нескольких колонок). Чтобы колонка `name` не оказалась в индексе, используйте параметр `as_index=False`. Например,\n",
    "\n",
    "```python\n",
    "df.groupby('col_1', as_index=False)\n",
    "```\n",
    "сгруппирует данные датафрейма `df` по колонке `col_1`. При этом колонка `col_1` останется колонкой, а не индексом. Сама по себе группировка не вычисляет что-то по группам.\n",
    "      \n",
    "**После группировки используйте метод `size()`**, который посчитает, сколько раз встречается каждое значение из колонки, по которой была проведена группировка. В метод ничего подавать не нужно.\n",
    "\n",
    "**Как использовать метод `size()` после группировки?** Используйте цепочку методов, применив их друг за другом. Например:\n",
    "```python\n",
    "df.some_method_1().some_method_2()\n",
    "```      \n",
    "</p>\n",
    "</details>"
   ]
  },
  {
   "cell_type": "code",
   "execution_count": 68,
   "metadata": {
    "id": "hBUWrPDav-n1"
   },
   "outputs": [],
   "source": [
    "# Ваш код здесь\n",
    "\n"
   ]
  },
  {
   "cell_type": "markdown",
   "metadata": {
    "id": "PvJYJVpmv-n9"
   },
   "source": [
    "3. Выведите описательную статистику, чтобы получить точные цифры"
   ]
  },
  {
   "cell_type": "markdown",
   "metadata": {
    "id": "FDgVUcURv-n9"
   },
   "source": [
    "<details>\n",
    "<summary>&#9658; Нажмите сюда, чтобы увидеть подсказку</summary>\n",
    "  <p>\n",
    "      \n",
    "**Как получить описательную статистику по столбцам?** Используйте метод `describe()`, применив его к датафрейму с числом успешных транзакций для каждого пользователя (со 2 шага выполнения)\n",
    "      \n",
    "**Как использовать метод?** Например применим метод `some_method()` к датафрейму `df`:\n",
    "```python\n",
    "df.some_method()\n",
    "```\n",
    "</p>\n",
    "</details>"
   ]
  },
  {
   "cell_type": "code",
   "execution_count": 69,
   "metadata": {
    "id": "NQajb8cpv-n-"
   },
   "outputs": [],
   "source": [
    "# Ваш код здесь\n",
    "\n"
   ]
  },
  {
   "cell_type": "markdown",
   "metadata": {
    "id": "woZ8zmAjv-n-"
   },
   "source": [
    "4. Выберите верные утверждения"
   ]
  },
  {
   "cell_type": "markdown",
   "metadata": {
    "id": "vvfmGSqmv-n-"
   },
   "source": [
    "<details>\n",
    "<summary>&#9658; Нажмите сюда, чтобы увидеть подсказку</summary>\n",
    "  <p>\n",
    "      \n",
    "Ориентируйтесь на значения, полученные с помощью метода describe.\n",
    "      \n",
    "**Что значат показатели, полученные с помощью метода describe?**\n",
    "- count — количество значений, не считая пропуски\n",
    "- mean — среднее значение по столбцу\n",
    "- std — стандартное отклонение по столбцу\n",
    "- min, max — минимальное и максимальное значения в столбце\n",
    "- 25%, 50%, 75% — квартили распределения (числа, которые больше определённого процента значений в распределении). Например, 50%-й квартиль больше известен как медиана — число, которое больше 50% всех значений.      \n",
    "</p>\n",
    "</details>"
   ]
  },
  {
   "cell_type": "markdown",
   "metadata": {
    "id": "WaVuEA7tv-n-"
   },
   "source": [
    "**Решение**"
   ]
  },
  {
   "cell_type": "code",
   "execution_count": 70,
   "metadata": {
    "id": "axPGVUQuv-n_"
   },
   "outputs": [],
   "source": [
    "success_per_user = data.loc[data.transaction == \"successfull\"].groupby('name', as_index=False).size()"
   ]
  },
  {
   "cell_type": "code",
   "execution_count": 71,
   "metadata": {
    "id": "bu_oFHWiv-n_",
    "outputId": "5775ff88-7c91-467e-a7ae-2a853ec99636",
    "scrolled": true
   },
   "outputs": [
    {
     "data": {
      "text/html": [
       "<div>\n",
       "<style scoped>\n",
       "    .dataframe tbody tr th:only-of-type {\n",
       "        vertical-align: middle;\n",
       "    }\n",
       "\n",
       "    .dataframe tbody tr th {\n",
       "        vertical-align: top;\n",
       "    }\n",
       "\n",
       "    .dataframe thead th {\n",
       "        text-align: right;\n",
       "    }\n",
       "</style>\n",
       "<table border=\"1\" class=\"dataframe\">\n",
       "  <thead>\n",
       "    <tr style=\"text-align: right;\">\n",
       "      <th></th>\n",
       "      <th>size</th>\n",
       "    </tr>\n",
       "  </thead>\n",
       "  <tbody>\n",
       "    <tr>\n",
       "      <th>count</th>\n",
       "      <td>56.000000</td>\n",
       "    </tr>\n",
       "    <tr>\n",
       "      <th>mean</th>\n",
       "      <td>65.928571</td>\n",
       "    </tr>\n",
       "    <tr>\n",
       "      <th>std</th>\n",
       "      <td>7.787769</td>\n",
       "    </tr>\n",
       "    <tr>\n",
       "      <th>min</th>\n",
       "      <td>46.000000</td>\n",
       "    </tr>\n",
       "    <tr>\n",
       "      <th>25%</th>\n",
       "      <td>61.000000</td>\n",
       "    </tr>\n",
       "    <tr>\n",
       "      <th>50%</th>\n",
       "      <td>64.000000</td>\n",
       "    </tr>\n",
       "    <tr>\n",
       "      <th>75%</th>\n",
       "      <td>72.000000</td>\n",
       "    </tr>\n",
       "    <tr>\n",
       "      <th>max</th>\n",
       "      <td>82.000000</td>\n",
       "    </tr>\n",
       "  </tbody>\n",
       "</table>\n",
       "</div>"
      ],
      "text/plain": [
       "            size\n",
       "count  56.000000\n",
       "mean   65.928571\n",
       "std     7.787769\n",
       "min    46.000000\n",
       "25%    61.000000\n",
       "50%    64.000000\n",
       "75%    72.000000\n",
       "max    82.000000"
      ]
     },
     "execution_count": 71,
     "metadata": {},
     "output_type": "execute_result"
    }
   ],
   "source": [
    "success_per_user.describe()"
   ]
  },
  {
   "cell_type": "markdown",
   "metadata": {
    "id": "kpTkmNdjv-oA"
   },
   "source": [
    "**Ответ:**  \n",
    "- Пользователи в среднем совершили примерно по 66 транзакций  \n",
    "- Максимальное число транзакций – 82  \n",
    "- Примерно 25% пользователей совершили менее 61 транзакции  "
   ]
  },
  {
   "cell_type": "markdown",
   "metadata": {
    "id": "jDE1yJnkv-oA"
   },
   "source": [
    "## Шаг 11"
   ]
  },
  {
   "cell_type": "markdown",
   "metadata": {
    "id": "EfyTs937v-oB"
   },
   "source": [
    "**На основе расчетов с прошлого шага постройте гистограмму, на которой по оси `x` будет отложено число транзакций, а по оси `y` — количество пользователей с таким числом транзакций.**\n",
    "\n",
    "**Выберите одно или несколько верных утверждений:**  \n",
    "- Ни один пользователь не совершил 45 транзакций  \n",
    "- Пользователей, совершивших от 45 до 55 транзакций, меньше, чем пользователей, совершивших от 70 до 80 транзакций  \n",
    "- Пользователей, совершивших от 45 до 55 транзакций, больше, чем пользователей, совершивших от 70 до 80 транзакций  \n",
    "- Распределение явно скошено влево (пик слева и низкие значения в центре и справа)\n",
    "- Распределение имеет пик по центру и снижающиеся значения по бокам"
   ]
  },
  {
   "cell_type": "markdown",
   "metadata": {
    "id": "rmE0vrovv-oB"
   },
   "source": [
    "Шаги выполнения:  \n",
    "1. На основе данных из прошлого шага постройте гистограмму, используя функцию `sns.displot()`. Функция визуализации сама посчитает, сколько пользователей совершили то или иное число транзакций)"
   ]
  },
  {
   "cell_type": "markdown",
   "metadata": {
    "id": "R5BRBRZJv-oB"
   },
   "source": [
    "<details>\n",
    "<summary>&#9658; Нажмите сюда, чтобы увидеть подсказку</summary>\n",
    "  <p>\n",
    "\n",
    "Передайте в функцию `sns.displot()` следующие параметры:  \n",
    "      `data` — датафрейм с расчетами, сколько успешных транзакций совершил каждый пользователь (с прошлого шага)  \n",
    "      `x` — название колонки из этого датафрейма (`size`) с числом транзакций   \n",
    "      \n",
    "Например:      \n",
    "```python\n",
    "sns.displot(data=df, x='col_name')\n",
    "```\n",
    "построит гистограмму на основе данных из колонки `col_name` датафрейма `df`\n",
    "</p>\n",
    "</details>"
   ]
  },
  {
   "cell_type": "code",
   "execution_count": 72,
   "metadata": {
    "id": "0x2m_RUcv-oB"
   },
   "outputs": [],
   "source": [
    "# Ваш код здесь\n",
    "\n"
   ]
  },
  {
   "cell_type": "markdown",
   "metadata": {
    "id": "zAIVpP4Wv-oC"
   },
   "source": [
    "2. Выберите одно или несколько верных утверждений"
   ]
  },
  {
   "cell_type": "markdown",
   "metadata": {
    "id": "FTKOcYpfv-oC"
   },
   "source": [
    "**Решение**"
   ]
  },
  {
   "cell_type": "code",
   "execution_count": 73,
   "metadata": {
    "id": "Chv7xR_ev-oD",
    "outputId": "5d705455-aae5-407a-8447-c8ac81996164"
   },
   "outputs": [
    {
     "data": {
      "text/plain": [
       "<seaborn.axisgrid.FacetGrid at 0x7fa6aa5e7ba8>"
      ]
     },
     "execution_count": 73,
     "metadata": {},
     "output_type": "execute_result"
    },
    {
     "data": {
      "image/png": "[encoded data removed]",
      "text/plain": [
       "<Figure size 360x360 with 1 Axes>"
      ]
     },
     "metadata": {
      "needs_background": "light"
     },
     "output_type": "display_data"
    }
   ],
   "source": [
    "sns.displot(data=success_per_user, x='size')"
   ]
  },
  {
   "cell_type": "markdown",
   "metadata": {
    "id": "x-f4Nkpnv-oD"
   },
   "source": [
    "**Ответ:**  \n",
    "- Ни один пользователь не совершил 45 транзакций  \n",
    "- Пользователей, совершивших от 45 до 55 транзакций, меньше, чем пользователей, совершивших от 70 до 80 транзакций    \n",
    "- Распределение имеет пик по центру и снижающиеся значения по бокам"
   ]
  },
  {
   "cell_type": "markdown",
   "metadata": {
    "id": "1CkyqAuZv-oD"
   },
   "source": [
    "## Шаг 12"
   ]
  },
  {
   "cell_type": "markdown",
   "metadata": {
    "id": "gka9OsRPv-oE"
   },
   "source": [
    "**К вам пришёл коллега из маркетингового отдела с немного обновленными данными — см.датасет `transaction_data_updated.csv`.** Он попросил сформировать сводную таблицу, которая покажет, какое количество операций осуществлял каждый пользователь в каждую минуту наблюдаемого временного промежутка. Эта информация нужна вашему коллеге для того, чтобы оценить, не было ли аномального скачка в количестве операций — как раз в то время рекламу вашей компании опубликовал известный блогер, ваш коллега хочет отследить, была ли быстрая реакция на неё.\n",
    "\n",
    "**Постройте сводную таблицу `pivot_trans_per_min`,** где:\n",
    "\n",
    "- столбцы – имена пользователей  \n",
    "- строки – минута времени осуществления операции (см.колонку `minute`)  \n",
    "- значения – число совершённых операций\n",
    "\n",
    "Пропущенные значения заполните нулями.\n",
    "\n",
    "Note: фильтровать успешные транзакции не нужно — постройте табличку по всем.\n",
    "\n",
    "**На LMS датафрейм сохранен в переменную `df`. Загрузите в LMS Ваш код, в котором создаете сводную таблицу `pivot_trans_per_min` и заполняете пропуски нулями**"
   ]
  },
  {
   "cell_type": "markdown",
   "metadata": {
    "id": "9BQRqzJ_v-oF"
   },
   "source": [
    "Шаги выполнения:  \n",
    "1. Загрузите csv файл к уроку в свою папку в JupyterНub\n",
    "2. Прочитайте этот датасет, результат сохранив в переменную `df`. Колонку `date` прочитайте как дату — это понадобится дальше"
   ]
  },
  {
   "cell_type": "markdown",
   "metadata": {
    "id": "ijYqWqB4v-oF"
   },
   "source": [
    "<details>\n",
    "<summary>&#9658; Нажмите сюда, чтобы увидеть подсказку</summary>\n",
    "  <p>\n",
    "      \n",
    "Данные находятся в файле формата CSV. Для их загрузки воспользуйтесь функцией `pd.read_csv()`, передав в качестве аргумента путь к файлу. В параметр `parse_dates` передайте список, содержащий название единственной колонки — `date`. Например,\n",
    "```python\n",
    "df = pd.read_csv('data.csv', parse_dates=['col_date'])\n",
    "```\n",
    "считает файл `data.csv`, хранящийся в той же папке, что и юпитер ноутбук, в котором вы сейчас работаете. В колонке `col_date` тип данных будет datetime\n",
    "</p>\n",
    "</details>"
   ]
  },
  {
   "cell_type": "code",
   "execution_count": 74,
   "metadata": {
    "id": "CBCTM-Y8v-oF"
   },
   "outputs": [],
   "source": [
    "# Ваш код здесь\n",
    "\n"
   ]
  },
  {
   "cell_type": "markdown",
   "metadata": {
    "id": "1dZ8lmbIv-oG"
   },
   "source": [
    "3. Посмотрите на содержимое датафрейма, проверьте его размер"
   ]
  },
  {
   "cell_type": "markdown",
   "metadata": {
    "id": "cBy7wbVNv-oI"
   },
   "source": [
    "<details>\n",
    "<summary>&#9658; Нажмите сюда, чтобы увидеть подсказку</summary>\n",
    "  <p>\n",
    "      \n",
    "**Как посмотреть на содержимое датафрейма?** Используйте метод `head()`\n",
    "\n",
    "**Как проверить размер датафрейма?** Используйте атрибут `shape`, чтобы узнать количество строк и столбцов. Этот атрибут возвращает кортеж, первый элемент которого указывает на количество строк, а второй — на количество столбцов в датафрейме.  \n",
    "      \n",
    "**Как обратиться к атрибуту датафрейма?** Для этого нужно написать переменную, где хранится датафрейм, поставить точку и написать название атрибута (без скобок!). Например:\n",
    "```python\n",
    "df.some_attribute\n",
    "```\n",
    "так мы обратимся к атрибуту `some_attribute` у датафрейма в переменной `df`\n",
    "      \n",
    "**Как использовать метод?** Например применим метод `some_method()` к датафрейму `df`:\n",
    "```python\n",
    "df.some_method()\n",
    "```\n",
    "</p>\n",
    "</details>"
   ]
  },
  {
   "cell_type": "code",
   "execution_count": 75,
   "metadata": {
    "id": "jRq52nKXv-oI"
   },
   "outputs": [],
   "source": [
    "# Ваш код здесь\n",
    "\n"
   ]
  },
  {
   "cell_type": "markdown",
   "metadata": {
    "id": "D1fX1BwAv-oJ"
   },
   "source": [
    "4. Посчитайте, какое количество операций осуществлял каждый пользователь (см.колонку `name`) в каждую минуту (см.колонку `minute`)"
   ]
  },
  {
   "cell_type": "markdown",
   "metadata": {
    "id": "TAfiCx2wv-oJ"
   },
   "source": [
    "<details>\n",
    "<summary>&#9658; Нажмите сюда, чтобы увидеть подсказку</summary>\n",
    "  <p>\n",
    "\n",
    "**Сгруппируйте данные данные одновременно по двум колонкам — `name` и `minute`, используя метод `groupby()`**.\n",
    "\n",
    "**Как сгруппировать по нескольким колонкам?** Передайте в метод `groupby()` не строку-название колонки, а список с названиями колонок. Например:\n",
    "```python\n",
    "df.groupby(['col_1', 'col_2'])\n",
    "```\n",
    "сгруппирует по комбинации значений `col_1` и `col_2`.\n",
    "      \n",
    "**Не забудьте использовать параметр `as_index=False` при группировке, это нам понадобится для следующего шага.**\n",
    "      \n",
    "**После группировки используйте метод `size()`**, который посчитает, сколько раз встречается каждая пара значений из двух колонок, по которым была проведена группировка. В метод ничего подавать не нужно.\n",
    "\n",
    "**Как использовать метод `size()` после группировки?** Используйте цепочку методов, применив их друг за другом. Например:\n",
    "```python\n",
    "df.some_method_1().some_method_2()\n",
    "```      \n",
    "</p>\n",
    "</details>"
   ]
  },
  {
   "cell_type": "code",
   "execution_count": 76,
   "metadata": {
    "id": "nv-utIxFv-oK"
   },
   "outputs": [],
   "source": [
    "# Ваш код здесь\n",
    "\n"
   ]
  },
  {
   "cell_type": "markdown",
   "metadata": {
    "id": "Xx5U0ueNv-oK"
   },
   "source": [
    "5. Измените структуру получившегося датафрейма так, чтобы в столбцах были имена пользователей, в строках – минуты времени осуществления операции, а в значениях – число совершённых операций"
   ]
  },
  {
   "cell_type": "markdown",
   "metadata": {
    "id": "29rcT2Jzv-oK"
   },
   "source": [
    "<details>\n",
    "<summary>&#9658; Нажмите сюда, чтобы увидеть подсказку</summary>\n",
    "  <p>\n",
    "\n",
    "**Используйте метод `pivot()`**. В параметр `index` передайте название колонки с минутами, в параметр `columns` — название колонки с именами, а в параметр `values` — название колонки с числом операций.\n",
    "\n",
    "**Как использовать метод?** Например, применим метод `some_method()` к датафрейму `df`:\n",
    "```python\n",
    "df.some_method()\n",
    "```\n",
    "\n",
    "**Если не получается**, убедитесь, что вы использовали параметр `as_index=False` при группировке.\n",
    "</p>\n",
    "</details>"
   ]
  },
  {
   "cell_type": "code",
   "execution_count": 77,
   "metadata": {
    "id": "YS9HWF_8v-oL"
   },
   "outputs": [],
   "source": [
    "# Ваш код здесь\n",
    "\n"
   ]
  },
  {
   "cell_type": "markdown",
   "metadata": {
    "id": "TKYHo1lvv-oM"
   },
   "source": [
    "6. Заполните пропущенные значения нулями и сохраните получившийся результат в переменную `pivot_trans_per_min`"
   ]
  },
  {
   "cell_type": "markdown",
   "metadata": {
    "id": "3erwMTZNv-oM"
   },
   "source": [
    "<details>\n",
    "<summary>&#9658; Нажмите сюда, чтобы увидеть подсказку</summary>\n",
    "  <p>\n",
    "\n",
    "**Используйте метод `fillna()`**. В качестве аргумента подайте в него то значение, которым хотите заполнить пропуски\n",
    "\n",
    "**Как использовать метод?** Например, применим метод `some_method()` к датафрейму `df` и сохраним результат в `df_new`:\n",
    "```python\n",
    "df_new = df.some_method()\n",
    "```\n",
    "</p>\n",
    "</details>"
   ]
  },
  {
   "cell_type": "code",
   "execution_count": 78,
   "metadata": {
    "id": "Nb8CqPnQv-oN"
   },
   "outputs": [],
   "source": [
    "# Ваш код здесь\n",
    "\n"
   ]
  },
  {
   "cell_type": "markdown",
   "metadata": {
    "id": "ClMEbXnHv-oN"
   },
   "source": [
    "7. Скопируйте и загрузите в LMS Ваш код, начиная с 4 шага выполнения"
   ]
  },
  {
   "cell_type": "markdown",
   "metadata": {
    "id": "t7hwaUpdv-oN"
   },
   "source": [
    "**Решение**"
   ]
  },
  {
   "cell_type": "code",
   "execution_count": 79,
   "metadata": {
    "id": "MktB9nNnv-oN"
   },
   "outputs": [],
   "source": [
    "df = pd.read_csv('transaction_data_updated.csv', parse_dates=['date'])"
   ]
  },
  {
   "cell_type": "code",
   "execution_count": 80,
   "metadata": {
    "id": "04xpGXVSv-oO",
    "outputId": "633391a9-8afe-49b4-9c28-bedf459935c5"
   },
   "outputs": [
    {
     "data": {
      "text/html": [
       "<div>\n",
       "<style scoped>\n",
       "    .dataframe tbody tr th:only-of-type {\n",
       "        vertical-align: middle;\n",
       "    }\n",
       "\n",
       "    .dataframe tbody tr th {\n",
       "        vertical-align: top;\n",
       "    }\n",
       "\n",
       "    .dataframe thead th {\n",
       "        text-align: right;\n",
       "    }\n",
       "</style>\n",
       "<table border=\"1\" class=\"dataframe\">\n",
       "  <thead>\n",
       "    <tr style=\"text-align: right;\">\n",
       "      <th></th>\n",
       "      <th>date</th>\n",
       "      <th>name</th>\n",
       "      <th>transaction</th>\n",
       "      <th>minute</th>\n",
       "    </tr>\n",
       "  </thead>\n",
       "  <tbody>\n",
       "    <tr>\n",
       "      <th>0</th>\n",
       "      <td>2020-03-02 00:37:20</td>\n",
       "      <td>Ekaterina_Petrova</td>\n",
       "      <td>cancelled</td>\n",
       "      <td>37</td>\n",
       "    </tr>\n",
       "    <tr>\n",
       "      <th>1</th>\n",
       "      <td>2020-03-02 00:59:09</td>\n",
       "      <td>Irina_Fedorova</td>\n",
       "      <td>successfull</td>\n",
       "      <td>59</td>\n",
       "    </tr>\n",
       "    <tr>\n",
       "      <th>2</th>\n",
       "      <td>2020-03-02 01:06:14</td>\n",
       "      <td>Ekaterina_Smirnova</td>\n",
       "      <td>successfull</td>\n",
       "      <td>6</td>\n",
       "    </tr>\n",
       "    <tr>\n",
       "      <th>3</th>\n",
       "      <td>2020-03-02 00:02:58</td>\n",
       "      <td>Lolita_Polyanova</td>\n",
       "      <td>cancelled</td>\n",
       "      <td>2</td>\n",
       "    </tr>\n",
       "    <tr>\n",
       "      <th>4</th>\n",
       "      <td>2020-03-02 00:17:52</td>\n",
       "      <td>Julia_Smirnova</td>\n",
       "      <td>cancelled</td>\n",
       "      <td>17</td>\n",
       "    </tr>\n",
       "  </tbody>\n",
       "</table>\n",
       "</div>"
      ],
      "text/plain": [
       "                 date                name  transaction  minute\n",
       "0 2020-03-02 00:37:20   Ekaterina_Petrova    cancelled      37\n",
       "1 2020-03-02 00:59:09      Irina_Fedorova  successfull      59\n",
       "2 2020-03-02 01:06:14  Ekaterina_Smirnova  successfull       6\n",
       "3 2020-03-02 00:02:58    Lolita_Polyanova    cancelled       2\n",
       "4 2020-03-02 00:17:52      Julia_Smirnova    cancelled      17"
      ]
     },
     "execution_count": 80,
     "metadata": {},
     "output_type": "execute_result"
    }
   ],
   "source": [
    "df.head()"
   ]
  },
  {
   "cell_type": "code",
   "execution_count": 81,
   "metadata": {
    "id": "Hwqfp_3Qv-oO",
    "outputId": "a62cb1ae-47e1-4500-8451-0d3f809a4ce5"
   },
   "outputs": [
    {
     "data": {
      "text/plain": [
       "(5315, 4)"
      ]
     },
     "execution_count": 81,
     "metadata": {},
     "output_type": "execute_result"
    }
   ],
   "source": [
    "df.shape"
   ]
  },
  {
   "cell_type": "code",
   "execution_count": 82,
   "metadata": {
    "id": "V5dB0jShv-oO"
   },
   "outputs": [],
   "source": [
    "trans_per_minute = df.groupby(['name', 'minute'], as_index=False).size()"
   ]
  },
  {
   "cell_type": "code",
   "execution_count": 83,
   "metadata": {
    "id": "MeMqROYQv-oP",
    "outputId": "8d56d975-7214-4159-f2f3-bc3fe795deac"
   },
   "outputs": [
    {
     "data": {
      "text/html": [
       "<div>\n",
       "<style scoped>\n",
       "    .dataframe tbody tr th:only-of-type {\n",
       "        vertical-align: middle;\n",
       "    }\n",
       "\n",
       "    .dataframe tbody tr th {\n",
       "        vertical-align: top;\n",
       "    }\n",
       "\n",
       "    .dataframe thead th {\n",
       "        text-align: right;\n",
       "    }\n",
       "</style>\n",
       "<table border=\"1\" class=\"dataframe\">\n",
       "  <thead>\n",
       "    <tr style=\"text-align: right;\">\n",
       "      <th></th>\n",
       "      <th>name</th>\n",
       "      <th>minute</th>\n",
       "      <th>size</th>\n",
       "    </tr>\n",
       "  </thead>\n",
       "  <tbody>\n",
       "    <tr>\n",
       "      <th>0</th>\n",
       "      <td>Ekaterina_Fedorova</td>\n",
       "      <td>0</td>\n",
       "      <td>3</td>\n",
       "    </tr>\n",
       "    <tr>\n",
       "      <th>1</th>\n",
       "      <td>Ekaterina_Fedorova</td>\n",
       "      <td>1</td>\n",
       "      <td>4</td>\n",
       "    </tr>\n",
       "    <tr>\n",
       "      <th>2</th>\n",
       "      <td>Ekaterina_Fedorova</td>\n",
       "      <td>2</td>\n",
       "      <td>1</td>\n",
       "    </tr>\n",
       "    <tr>\n",
       "      <th>3</th>\n",
       "      <td>Ekaterina_Fedorova</td>\n",
       "      <td>3</td>\n",
       "      <td>3</td>\n",
       "    </tr>\n",
       "    <tr>\n",
       "      <th>4</th>\n",
       "      <td>Ekaterina_Fedorova</td>\n",
       "      <td>4</td>\n",
       "      <td>3</td>\n",
       "    </tr>\n",
       "  </tbody>\n",
       "</table>\n",
       "</div>"
      ],
      "text/plain": [
       "                 name  minute  size\n",
       "0  Ekaterina_Fedorova       0     3\n",
       "1  Ekaterina_Fedorova       1     4\n",
       "2  Ekaterina_Fedorova       2     1\n",
       "3  Ekaterina_Fedorova       3     3\n",
       "4  Ekaterina_Fedorova       4     3"
      ]
     },
     "execution_count": 83,
     "metadata": {},
     "output_type": "execute_result"
    }
   ],
   "source": [
    "trans_per_minute.head()"
   ]
  },
  {
   "cell_type": "code",
   "execution_count": 84,
   "metadata": {
    "id": "4NeQ-EIEv-oP"
   },
   "outputs": [],
   "source": [
    "pivot_trans_per_min = trans_per_minute.pivot(index='minute', columns='name', values='size')"
   ]
  },
  {
   "cell_type": "code",
   "execution_count": 85,
   "metadata": {
    "id": "f3IrchrFv-oQ",
    "outputId": "d4719c44-539e-45dc-fdca-22c3adbff025"
   },
   "outputs": [
    {
     "data": {
      "text/html": [
       "<div>\n",
       "<style scoped>\n",
       "    .dataframe tbody tr th:only-of-type {\n",
       "        vertical-align: middle;\n",
       "    }\n",
       "\n",
       "    .dataframe tbody tr th {\n",
       "        vertical-align: top;\n",
       "    }\n",
       "\n",
       "    .dataframe thead th {\n",
       "        text-align: right;\n",
       "    }\n",
       "</style>\n",
       "<table border=\"1\" class=\"dataframe\">\n",
       "  <thead>\n",
       "    <tr style=\"text-align: right;\">\n",
       "      <th>name</th>\n",
       "      <th>Ekaterina_Fedorova</th>\n",
       "      <th>Ekaterina_Ivanova</th>\n",
       "      <th>Ekaterina_Lesnova</th>\n",
       "      <th>Ekaterina_Ozerova</th>\n",
       "      <th>Ekaterina_Petrova</th>\n",
       "      <th>Ekaterina_Polyanova</th>\n",
       "      <th>Ekaterina_Smirnova</th>\n",
       "      <th>Irina_Fedorova</th>\n",
       "      <th>Irina_Ivanova</th>\n",
       "      <th>Irina_Lesnova</th>\n",
       "      <th>...</th>\n",
       "      <th>Svetlana_Petrova</th>\n",
       "      <th>Svetlana_Polyanova</th>\n",
       "      <th>Svetlana_Smirnova</th>\n",
       "      <th>Vasilisa_Fedorova</th>\n",
       "      <th>Vasilisa_Ivanova</th>\n",
       "      <th>Vasilisa_Lesnova</th>\n",
       "      <th>Vasilisa_Ozerova</th>\n",
       "      <th>Vasilisa_Petrova</th>\n",
       "      <th>Vasilisa_Polyanova</th>\n",
       "      <th>Vasilisa_Smirnova</th>\n",
       "    </tr>\n",
       "    <tr>\n",
       "      <th>minute</th>\n",
       "      <th></th>\n",
       "      <th></th>\n",
       "      <th></th>\n",
       "      <th></th>\n",
       "      <th></th>\n",
       "      <th></th>\n",
       "      <th></th>\n",
       "      <th></th>\n",
       "      <th></th>\n",
       "      <th></th>\n",
       "      <th></th>\n",
       "      <th></th>\n",
       "      <th></th>\n",
       "      <th></th>\n",
       "      <th></th>\n",
       "      <th></th>\n",
       "      <th></th>\n",
       "      <th></th>\n",
       "      <th></th>\n",
       "      <th></th>\n",
       "      <th></th>\n",
       "    </tr>\n",
       "  </thead>\n",
       "  <tbody>\n",
       "    <tr>\n",
       "      <th>0</th>\n",
       "      <td>3.0</td>\n",
       "      <td>4.0</td>\n",
       "      <td>2.0</td>\n",
       "      <td>3.0</td>\n",
       "      <td>4.0</td>\n",
       "      <td>4.0</td>\n",
       "      <td>2.0</td>\n",
       "      <td>1.0</td>\n",
       "      <td>2.0</td>\n",
       "      <td>2.0</td>\n",
       "      <td>...</td>\n",
       "      <td>NaN</td>\n",
       "      <td>3.0</td>\n",
       "      <td>1.0</td>\n",
       "      <td>1.0</td>\n",
       "      <td>4.0</td>\n",
       "      <td>1.0</td>\n",
       "      <td>3.0</td>\n",
       "      <td>NaN</td>\n",
       "      <td>NaN</td>\n",
       "      <td>1.0</td>\n",
       "    </tr>\n",
       "    <tr>\n",
       "      <th>1</th>\n",
       "      <td>4.0</td>\n",
       "      <td>4.0</td>\n",
       "      <td>NaN</td>\n",
       "      <td>4.0</td>\n",
       "      <td>2.0</td>\n",
       "      <td>5.0</td>\n",
       "      <td>4.0</td>\n",
       "      <td>4.0</td>\n",
       "      <td>4.0</td>\n",
       "      <td>3.0</td>\n",
       "      <td>...</td>\n",
       "      <td>4.0</td>\n",
       "      <td>5.0</td>\n",
       "      <td>3.0</td>\n",
       "      <td>2.0</td>\n",
       "      <td>3.0</td>\n",
       "      <td>3.0</td>\n",
       "      <td>NaN</td>\n",
       "      <td>NaN</td>\n",
       "      <td>3.0</td>\n",
       "      <td>2.0</td>\n",
       "    </tr>\n",
       "    <tr>\n",
       "      <th>2</th>\n",
       "      <td>1.0</td>\n",
       "      <td>2.0</td>\n",
       "      <td>4.0</td>\n",
       "      <td>4.0</td>\n",
       "      <td>2.0</td>\n",
       "      <td>1.0</td>\n",
       "      <td>3.0</td>\n",
       "      <td>2.0</td>\n",
       "      <td>3.0</td>\n",
       "      <td>3.0</td>\n",
       "      <td>...</td>\n",
       "      <td>4.0</td>\n",
       "      <td>1.0</td>\n",
       "      <td>3.0</td>\n",
       "      <td>3.0</td>\n",
       "      <td>NaN</td>\n",
       "      <td>1.0</td>\n",
       "      <td>2.0</td>\n",
       "      <td>1.0</td>\n",
       "      <td>3.0</td>\n",
       "      <td>1.0</td>\n",
       "    </tr>\n",
       "    <tr>\n",
       "      <th>3</th>\n",
       "      <td>3.0</td>\n",
       "      <td>NaN</td>\n",
       "      <td>2.0</td>\n",
       "      <td>NaN</td>\n",
       "      <td>5.0</td>\n",
       "      <td>2.0</td>\n",
       "      <td>1.0</td>\n",
       "      <td>3.0</td>\n",
       "      <td>2.0</td>\n",
       "      <td>2.0</td>\n",
       "      <td>...</td>\n",
       "      <td>1.0</td>\n",
       "      <td>5.0</td>\n",
       "      <td>5.0</td>\n",
       "      <td>2.0</td>\n",
       "      <td>4.0</td>\n",
       "      <td>NaN</td>\n",
       "      <td>3.0</td>\n",
       "      <td>4.0</td>\n",
       "      <td>1.0</td>\n",
       "      <td>NaN</td>\n",
       "    </tr>\n",
       "    <tr>\n",
       "      <th>4</th>\n",
       "      <td>3.0</td>\n",
       "      <td>NaN</td>\n",
       "      <td>NaN</td>\n",
       "      <td>3.0</td>\n",
       "      <td>1.0</td>\n",
       "      <td>1.0</td>\n",
       "      <td>2.0</td>\n",
       "      <td>3.0</td>\n",
       "      <td>2.0</td>\n",
       "      <td>1.0</td>\n",
       "      <td>...</td>\n",
       "      <td>1.0</td>\n",
       "      <td>2.0</td>\n",
       "      <td>2.0</td>\n",
       "      <td>1.0</td>\n",
       "      <td>1.0</td>\n",
       "      <td>2.0</td>\n",
       "      <td>2.0</td>\n",
       "      <td>3.0</td>\n",
       "      <td>NaN</td>\n",
       "      <td>1.0</td>\n",
       "    </tr>\n",
       "  </tbody>\n",
       "</table>\n",
       "<p>5 rows × 56 columns</p>\n",
       "</div>"
      ],
      "text/plain": [
       "name    Ekaterina_Fedorova  Ekaterina_Ivanova  Ekaterina_Lesnova  \\\n",
       "minute                                                             \n",
       "0                      3.0                4.0                2.0   \n",
       "1                      4.0                4.0                NaN   \n",
       "2                      1.0                2.0                4.0   \n",
       "3                      3.0                NaN                2.0   \n",
       "4                      3.0                NaN                NaN   \n",
       "\n",
       "name    Ekaterina_Ozerova  Ekaterina_Petrova  Ekaterina_Polyanova  \\\n",
       "minute                                                              \n",
       "0                     3.0                4.0                  4.0   \n",
       "1                     4.0                2.0                  5.0   \n",
       "2                     4.0                2.0                  1.0   \n",
       "3                     NaN                5.0                  2.0   \n",
       "4                     3.0                1.0                  1.0   \n",
       "\n",
       "name    Ekaterina_Smirnova  Irina_Fedorova  Irina_Ivanova  Irina_Lesnova  ...  \\\n",
       "minute                                                                    ...   \n",
       "0                      2.0             1.0            2.0            2.0  ...   \n",
       "1                      4.0             4.0            4.0            3.0  ...   \n",
       "2                      3.0             2.0            3.0            3.0  ...   \n",
       "3                      1.0             3.0            2.0            2.0  ...   \n",
       "4                      2.0             3.0            2.0            1.0  ...   \n",
       "\n",
       "name    Svetlana_Petrova  Svetlana_Polyanova  Svetlana_Smirnova  \\\n",
       "minute                                                            \n",
       "0                    NaN                 3.0                1.0   \n",
       "1                    4.0                 5.0                3.0   \n",
       "2                    4.0                 1.0                3.0   \n",
       "3                    1.0                 5.0                5.0   \n",
       "4                    1.0                 2.0                2.0   \n",
       "\n",
       "name    Vasilisa_Fedorova  Vasilisa_Ivanova  Vasilisa_Lesnova  \\\n",
       "minute                                                          \n",
       "0                     1.0               4.0               1.0   \n",
       "1                     2.0               3.0               3.0   \n",
       "2                     3.0               NaN               1.0   \n",
       "3                     2.0               4.0               NaN   \n",
       "4                     1.0               1.0               2.0   \n",
       "\n",
       "name    Vasilisa_Ozerova  Vasilisa_Petrova  Vasilisa_Polyanova  \\\n",
       "minute                                                           \n",
       "0                    3.0               NaN                 NaN   \n",
       "1                    NaN               NaN                 3.0   \n",
       "2                    2.0               1.0                 3.0   \n",
       "3                    3.0               4.0                 1.0   \n",
       "4                    2.0               3.0                 NaN   \n",
       "\n",
       "name    Vasilisa_Smirnova  \n",
       "minute                     \n",
       "0                     1.0  \n",
       "1                     2.0  \n",
       "2                     1.0  \n",
       "3                     NaN  \n",
       "4                     1.0  \n",
       "\n",
       "[5 rows x 56 columns]"
      ]
     },
     "execution_count": 85,
     "metadata": {},
     "output_type": "execute_result"
    }
   ],
   "source": [
    "pivot_trans_per_min.head()"
   ]
  },
  {
   "cell_type": "code",
   "execution_count": 86,
   "metadata": {
    "id": "hKi28Jc2v-oR"
   },
   "outputs": [],
   "source": [
    "pivot_trans_per_min = pivot_trans_per_min.fillna(0)"
   ]
  },
  {
   "cell_type": "code",
   "execution_count": 87,
   "metadata": {
    "id": "9ZGw9Pg3v-oR",
    "outputId": "636b8180-1965-42de-fad2-2162ad5c60dd"
   },
   "outputs": [
    {
     "data": {
      "text/html": [
       "<div>\n",
       "<style scoped>\n",
       "    .dataframe tbody tr th:only-of-type {\n",
       "        vertical-align: middle;\n",
       "    }\n",
       "\n",
       "    .dataframe tbody tr th {\n",
       "        vertical-align: top;\n",
       "    }\n",
       "\n",
       "    .dataframe thead th {\n",
       "        text-align: right;\n",
       "    }\n",
       "</style>\n",
       "<table border=\"1\" class=\"dataframe\">\n",
       "  <thead>\n",
       "    <tr style=\"text-align: right;\">\n",
       "      <th>name</th>\n",
       "      <th>Ekaterina_Fedorova</th>\n",
       "      <th>Ekaterina_Ivanova</th>\n",
       "      <th>Ekaterina_Lesnova</th>\n",
       "      <th>Ekaterina_Ozerova</th>\n",
       "      <th>Ekaterina_Petrova</th>\n",
       "      <th>Ekaterina_Polyanova</th>\n",
       "      <th>Ekaterina_Smirnova</th>\n",
       "      <th>Irina_Fedorova</th>\n",
       "      <th>Irina_Ivanova</th>\n",
       "      <th>Irina_Lesnova</th>\n",
       "      <th>...</th>\n",
       "      <th>Svetlana_Petrova</th>\n",
       "      <th>Svetlana_Polyanova</th>\n",
       "      <th>Svetlana_Smirnova</th>\n",
       "      <th>Vasilisa_Fedorova</th>\n",
       "      <th>Vasilisa_Ivanova</th>\n",
       "      <th>Vasilisa_Lesnova</th>\n",
       "      <th>Vasilisa_Ozerova</th>\n",
       "      <th>Vasilisa_Petrova</th>\n",
       "      <th>Vasilisa_Polyanova</th>\n",
       "      <th>Vasilisa_Smirnova</th>\n",
       "    </tr>\n",
       "    <tr>\n",
       "      <th>minute</th>\n",
       "      <th></th>\n",
       "      <th></th>\n",
       "      <th></th>\n",
       "      <th></th>\n",
       "      <th></th>\n",
       "      <th></th>\n",
       "      <th></th>\n",
       "      <th></th>\n",
       "      <th></th>\n",
       "      <th></th>\n",
       "      <th></th>\n",
       "      <th></th>\n",
       "      <th></th>\n",
       "      <th></th>\n",
       "      <th></th>\n",
       "      <th></th>\n",
       "      <th></th>\n",
       "      <th></th>\n",
       "      <th></th>\n",
       "      <th></th>\n",
       "      <th></th>\n",
       "    </tr>\n",
       "  </thead>\n",
       "  <tbody>\n",
       "    <tr>\n",
       "      <th>0</th>\n",
       "      <td>3.0</td>\n",
       "      <td>4.0</td>\n",
       "      <td>2.0</td>\n",
       "      <td>3.0</td>\n",
       "      <td>4.0</td>\n",
       "      <td>4.0</td>\n",
       "      <td>2.0</td>\n",
       "      <td>1.0</td>\n",
       "      <td>2.0</td>\n",
       "      <td>2.0</td>\n",
       "      <td>...</td>\n",
       "      <td>0.0</td>\n",
       "      <td>3.0</td>\n",
       "      <td>1.0</td>\n",
       "      <td>1.0</td>\n",
       "      <td>4.0</td>\n",
       "      <td>1.0</td>\n",
       "      <td>3.0</td>\n",
       "      <td>0.0</td>\n",
       "      <td>0.0</td>\n",
       "      <td>1.0</td>\n",
       "    </tr>\n",
       "    <tr>\n",
       "      <th>1</th>\n",
       "      <td>4.0</td>\n",
       "      <td>4.0</td>\n",
       "      <td>0.0</td>\n",
       "      <td>4.0</td>\n",
       "      <td>2.0</td>\n",
       "      <td>5.0</td>\n",
       "      <td>4.0</td>\n",
       "      <td>4.0</td>\n",
       "      <td>4.0</td>\n",
       "      <td>3.0</td>\n",
       "      <td>...</td>\n",
       "      <td>4.0</td>\n",
       "      <td>5.0</td>\n",
       "      <td>3.0</td>\n",
       "      <td>2.0</td>\n",
       "      <td>3.0</td>\n",
       "      <td>3.0</td>\n",
       "      <td>0.0</td>\n",
       "      <td>0.0</td>\n",
       "      <td>3.0</td>\n",
       "      <td>2.0</td>\n",
       "    </tr>\n",
       "    <tr>\n",
       "      <th>2</th>\n",
       "      <td>1.0</td>\n",
       "      <td>2.0</td>\n",
       "      <td>4.0</td>\n",
       "      <td>4.0</td>\n",
       "      <td>2.0</td>\n",
       "      <td>1.0</td>\n",
       "      <td>3.0</td>\n",
       "      <td>2.0</td>\n",
       "      <td>3.0</td>\n",
       "      <td>3.0</td>\n",
       "      <td>...</td>\n",
       "      <td>4.0</td>\n",
       "      <td>1.0</td>\n",
       "      <td>3.0</td>\n",
       "      <td>3.0</td>\n",
       "      <td>0.0</td>\n",
       "      <td>1.0</td>\n",
       "      <td>2.0</td>\n",
       "      <td>1.0</td>\n",
       "      <td>3.0</td>\n",
       "      <td>1.0</td>\n",
       "    </tr>\n",
       "    <tr>\n",
       "      <th>3</th>\n",
       "      <td>3.0</td>\n",
       "      <td>0.0</td>\n",
       "      <td>2.0</td>\n",
       "      <td>0.0</td>\n",
       "      <td>5.0</td>\n",
       "      <td>2.0</td>\n",
       "      <td>1.0</td>\n",
       "      <td>3.0</td>\n",
       "      <td>2.0</td>\n",
       "      <td>2.0</td>\n",
       "      <td>...</td>\n",
       "      <td>1.0</td>\n",
       "      <td>5.0</td>\n",
       "      <td>5.0</td>\n",
       "      <td>2.0</td>\n",
       "      <td>4.0</td>\n",
       "      <td>0.0</td>\n",
       "      <td>3.0</td>\n",
       "      <td>4.0</td>\n",
       "      <td>1.0</td>\n",
       "      <td>0.0</td>\n",
       "    </tr>\n",
       "    <tr>\n",
       "      <th>4</th>\n",
       "      <td>3.0</td>\n",
       "      <td>0.0</td>\n",
       "      <td>0.0</td>\n",
       "      <td>3.0</td>\n",
       "      <td>1.0</td>\n",
       "      <td>1.0</td>\n",
       "      <td>2.0</td>\n",
       "      <td>3.0</td>\n",
       "      <td>2.0</td>\n",
       "      <td>1.0</td>\n",
       "      <td>...</td>\n",
       "      <td>1.0</td>\n",
       "      <td>2.0</td>\n",
       "      <td>2.0</td>\n",
       "      <td>1.0</td>\n",
       "      <td>1.0</td>\n",
       "      <td>2.0</td>\n",
       "      <td>2.0</td>\n",
       "      <td>3.0</td>\n",
       "      <td>0.0</td>\n",
       "      <td>1.0</td>\n",
       "    </tr>\n",
       "  </tbody>\n",
       "</table>\n",
       "<p>5 rows × 56 columns</p>\n",
       "</div>"
      ],
      "text/plain": [
       "name    Ekaterina_Fedorova  Ekaterina_Ivanova  Ekaterina_Lesnova  \\\n",
       "minute                                                             \n",
       "0                      3.0                4.0                2.0   \n",
       "1                      4.0                4.0                0.0   \n",
       "2                      1.0                2.0                4.0   \n",
       "3                      3.0                0.0                2.0   \n",
       "4                      3.0                0.0                0.0   \n",
       "\n",
       "name    Ekaterina_Ozerova  Ekaterina_Petrova  Ekaterina_Polyanova  \\\n",
       "minute                                                              \n",
       "0                     3.0                4.0                  4.0   \n",
       "1                     4.0                2.0                  5.0   \n",
       "2                     4.0                2.0                  1.0   \n",
       "3                     0.0                5.0                  2.0   \n",
       "4                     3.0                1.0                  1.0   \n",
       "\n",
       "name    Ekaterina_Smirnova  Irina_Fedorova  Irina_Ivanova  Irina_Lesnova  ...  \\\n",
       "minute                                                                    ...   \n",
       "0                      2.0             1.0            2.0            2.0  ...   \n",
       "1                      4.0             4.0            4.0            3.0  ...   \n",
       "2                      3.0             2.0            3.0            3.0  ...   \n",
       "3                      1.0             3.0            2.0            2.0  ...   \n",
       "4                      2.0             3.0            2.0            1.0  ...   \n",
       "\n",
       "name    Svetlana_Petrova  Svetlana_Polyanova  Svetlana_Smirnova  \\\n",
       "minute                                                            \n",
       "0                    0.0                 3.0                1.0   \n",
       "1                    4.0                 5.0                3.0   \n",
       "2                    4.0                 1.0                3.0   \n",
       "3                    1.0                 5.0                5.0   \n",
       "4                    1.0                 2.0                2.0   \n",
       "\n",
       "name    Vasilisa_Fedorova  Vasilisa_Ivanova  Vasilisa_Lesnova  \\\n",
       "minute                                                          \n",
       "0                     1.0               4.0               1.0   \n",
       "1                     2.0               3.0               3.0   \n",
       "2                     3.0               0.0               1.0   \n",
       "3                     2.0               4.0               0.0   \n",
       "4                     1.0               1.0               2.0   \n",
       "\n",
       "name    Vasilisa_Ozerova  Vasilisa_Petrova  Vasilisa_Polyanova  \\\n",
       "minute                                                           \n",
       "0                    3.0               0.0                 0.0   \n",
       "1                    0.0               0.0                 3.0   \n",
       "2                    2.0               1.0                 3.0   \n",
       "3                    3.0               4.0                 1.0   \n",
       "4                    2.0               3.0                 0.0   \n",
       "\n",
       "name    Vasilisa_Smirnova  \n",
       "minute                     \n",
       "0                     1.0  \n",
       "1                     2.0  \n",
       "2                     1.0  \n",
       "3                     0.0  \n",
       "4                     1.0  \n",
       "\n",
       "[5 rows x 56 columns]"
      ]
     },
     "execution_count": 87,
     "metadata": {},
     "output_type": "execute_result"
    }
   ],
   "source": [
    "pivot_trans_per_min.head()"
   ]
  },
  {
   "cell_type": "markdown",
   "metadata": {
    "id": "88D5UA-Wv-oS"
   },
   "source": [
    "**Код для отправки в LMS:**\n",
    "\n",
    "```\n",
    "trans_per_minute = df.groupby(['name', 'minute'], as_index=False).size()\n",
    "pivot_trans_per_min = trans_per_minute.pivot(index='minute', columns='name', values='size')\n",
    "pivot_trans_per_min = pivot_trans_per_min.fillna(0)\n",
    "```"
   ]
  },
  {
   "cell_type": "markdown",
   "metadata": {
    "id": "GnDfBPcVv-oS"
   },
   "source": [
    "## Шаг 13"
   ]
  },
  {
   "cell_type": "markdown",
   "metadata": {
    "id": "Tkqtmd17v-oS"
   },
   "source": [
    "Получив сводную таблицу, ваш коллега построил по ней график, где по оси `x` – минута транзакции (сколько минут прошло с начала дня), а по оси `y` – число транзакций. Но коллега сомневается, что в данных нет ошибки"
   ]
  },
  {
   "cell_type": "markdown",
   "metadata": {
    "id": "ME8mzc7Jv-oS"
   },
   "source": [
    "![](https://ucarecdn.com/76242146-2d40-40d8-9a4d-2069d97da56f/-/crop/746x502/52,40/-/preview/)"
   ]
  },
  {
   "cell_type": "markdown",
   "metadata": {
    "id": "Cm17wHDxv-oT"
   },
   "source": [
    "**Определите, из-за чего мы видим такую картину. Произошла ошибка или с данными всё хорошо? Выберите один вариант:**\n",
    "\n",
    "- Всё хорошо!  \n",
    "- Вместо минут извлекли дни, а не сколько минут прошло с начала дня  \n",
    "- Извлекли минутную часть времени, а не число минут с начала дня  \n",
    "- В столбец minute записали число транзакций, совершенных пользователем"
   ]
  },
  {
   "cell_type": "markdown",
   "metadata": {
    "id": "Z4cU_Hssv-oT"
   },
   "source": [
    "Шаги выполнения:  \n",
    "1. Суммируйте количество транзакций в каждую минуту, используя датафрейм `pivot_trans_per_min`, полученный на предыдущем шаге"
   ]
  },
  {
   "cell_type": "markdown",
   "metadata": {
    "id": "MNlccgifv-oT"
   },
   "source": [
    "<details>\n",
    "<summary>&#9658; Нажмите сюда, чтобы увидеть подсказку</summary>\n",
    "  <p>\n",
    "\n",
    "Используйте метод `sum()`, применив его к датафрейму `pivot_trans_per_min`. В методе задайте параметр `axis=1`, чтобы складывались значения из всех колонок построчно.\n",
    "\n",
    "Как использовать метод? Например применим метод `some_method()` к датафрейму `df`, задав параметр `some_parameter` равным нулю:\n",
    "```python\n",
    "df.some_method(some_parameter=0)\n",
    "```\n",
    "</p>\n",
    "</details>"
   ]
  },
  {
   "cell_type": "code",
   "execution_count": 88,
   "metadata": {
    "id": "hSNWOFEpv-oV"
   },
   "outputs": [],
   "source": [
    "# Ваш код здесь\n",
    "\n"
   ]
  },
  {
   "cell_type": "markdown",
   "metadata": {
    "id": "LazmX7KJv-oV"
   },
   "source": [
    "2. На основе получившегося датафрейма постройте барплот (столбчатую диаграмму)"
   ]
  },
  {
   "cell_type": "markdown",
   "metadata": {
    "id": "RWr1_ebMv-oW"
   },
   "source": [
    "<details>\n",
    "<summary>&#9658; Нажмите сюда, чтобы увидеть подсказку</summary>\n",
    "  <p>\n",
    "\n",
    "Примените к получившимся данным аксессор `plot` и метод `bar()` из библиотеки `pandas`. Чтобы график был читаемым, увеличьте его размер, задав параметр `figsize` внутри метода. Например:\n",
    "```python\n",
    "df.plot.bar(figsize=(5,5))\n",
    "```      \n",
    "построит барплот на основе данных из датафрейма `df`, при этом размер графика будет 5 на 5 дюймов\n",
    "</p>\n",
    "</details>"
   ]
  },
  {
   "cell_type": "code",
   "execution_count": 89,
   "metadata": {
    "id": "ByDp3Ph3v-oW"
   },
   "outputs": [],
   "source": [
    "# Ваш код здесь\n",
    "\n"
   ]
  },
  {
   "cell_type": "markdown",
   "metadata": {
    "id": "4ORmRnPkv-oW"
   },
   "source": [
    "3. Посмотрите, получился ли у вас такой же график, как у вашего коллеги? Если нет, подумайте, в чем причина различий? Если да, подумайте, что не так с графиком?"
   ]
  },
  {
   "cell_type": "markdown",
   "metadata": {
    "id": "CKcwIvAgv-oY"
   },
   "source": [
    "<details>\n",
    "<summary>&#9658; Нажмите сюда, чтобы увидеть подсказку</summary>\n",
    "  <p>\n",
    "\n",
    "Обратите внимание на максимальное число минут и на то, что количество транзакций в первой половине графика отличается от количества во второй.\n",
    "</p>\n",
    "</details>"
   ]
  },
  {
   "cell_type": "markdown",
   "metadata": {
    "id": "5pS4xeAHv-oY"
   },
   "source": [
    "4. Посмотрите на данные в колонке `date` — соответствует ли им график?"
   ]
  },
  {
   "cell_type": "markdown",
   "metadata": {
    "id": "XuPWaFoYv-oY"
   },
   "source": [
    "<details>\n",
    "<summary>&#9658; Нажмите сюда, чтобы увидеть подсказку</summary>\n",
    "<p>\n",
    "\n",
    "Используйте метод `describe()`, применив его к колонке `date`. Чтобы вывести нужные показатели по дате, используйте параметр `datetime_is_numeric=True`. Если выполняли задание не в JupyterHub нашего курса, то параметр может и не понадобиться.\n",
    "      \n",
    "**Как использовать метод?** Например применим метод `some_method()`, с параметром `some_parameter` равным False, к колонке `col_name` датафрейма `df`:\n",
    "```python\n",
    "df.col_name.some_method(some_parameter=False)\n",
    "```\n",
    "    \n",
    "**Убедитесь, что колонка `date` имеет тип datetime**\n",
    "    \n",
    "**Обратите внимание на максимальное значение времени — отражено ли оно на графике?**\n",
    "</p>\n",
    "</details>"
   ]
  },
  {
   "cell_type": "code",
   "execution_count": 90,
   "metadata": {
    "id": "BBxkF2vmv-oZ"
   },
   "outputs": [],
   "source": [
    "# Ваш код здесь\n",
    "\n"
   ]
  },
  {
   "cell_type": "markdown",
   "metadata": {
    "id": "Jx-ZMpxDv-oZ"
   },
   "source": [
    "**Решение**"
   ]
  },
  {
   "cell_type": "code",
   "execution_count": 91,
   "metadata": {
    "id": "nn-O0dDcv-oa"
   },
   "outputs": [],
   "source": [
    "minute_trans = pivot_trans_per_min.sum(axis=1)"
   ]
  },
  {
   "cell_type": "code",
   "execution_count": 92,
   "metadata": {
    "id": "b8IZS_7yv-oa",
    "outputId": "3f74bfa1-6613-4c56-c069-045cdd26ecc5"
   },
   "outputs": [
    {
     "data": {
      "text/plain": [
       "minute\n",
       "0    111.0\n",
       "1    145.0\n",
       "2    123.0\n",
       "3    129.0\n",
       "4     92.0\n",
       "dtype: float64"
      ]
     },
     "execution_count": 92,
     "metadata": {},
     "output_type": "execute_result"
    }
   ],
   "source": [
    "minute_trans.head()"
   ]
  },
  {
   "cell_type": "code",
   "execution_count": 93,
   "metadata": {
    "id": "fbXWitB1v-oa",
    "outputId": "0618b636-267a-47dd-ceed-5090a1c196c0"
   },
   "outputs": [
    {
     "data": {
      "text/plain": [
       "<matplotlib.axes._subplots.AxesSubplot at 0x7fa683769a58>"
      ]
     },
     "execution_count": 93,
     "metadata": {},
     "output_type": "execute_result"
    },
    {
     "data": {
      "image/png": "[encoded data removed]",
      "text/plain": [
       "<Figure size 864x432 with 1 Axes>"
      ]
     },
     "metadata": {
      "needs_background": "light"
     },
     "output_type": "display_data"
    }
   ],
   "source": [
    "minute_trans.plot.bar(figsize=(12,6))"
   ]
  },
  {
   "cell_type": "code",
   "execution_count": 94,
   "metadata": {
    "id": "J_zHgYQXv-ob",
    "outputId": "b7023efd-49f1-4181-dc20-94fafd55c169"
   },
   "outputs": [
    {
     "data": {
      "text/plain": [
       "count                             5315\n",
       "mean     2020-03-02 00:43:56.628974592\n",
       "min                2020-03-02 00:00:00\n",
       "25%         2020-03-02 00:21:50.500000\n",
       "50%                2020-03-02 00:43:26\n",
       "75%         2020-03-02 01:06:22.500000\n",
       "max                2020-03-02 01:29:05\n",
       "Name: date, dtype: object"
      ]
     },
     "execution_count": 94,
     "metadata": {},
     "output_type": "execute_result"
    }
   ],
   "source": [
    "df.date.describe(datetime_is_numeric=True)"
   ]
  },
  {
   "cell_type": "markdown",
   "metadata": {
    "id": "BdXvl0ayv-ob"
   },
   "source": [
    "**Ответ: извлекли минутную часть времени, а не число минут с начала дня**"
   ]
  },
  {
   "cell_type": "markdown",
   "metadata": {
    "id": "9LUa7i29v-ob"
   },
   "source": [
    "## Шаг 14"
   ]
  },
  {
   "cell_type": "markdown",
   "metadata": {
    "id": "YkY9uoZIv-oc"
   },
   "source": [
    "Что ж, ошибку в работе с данными совершить легко. **Исправьте её и подсчитайте правильное количество минут, прошедших с начала дня, сохранив результаты в новой колонке `true_minute`.**\n",
    "\n",
    "Постройте график и посмотрите, произошли ли изменения. Из-за того, что теперь вариантов минут больше, используйте другой тип графика — гистограмму распределения (см.функцию `sns.displot`).\n",
    "\n",
    "**На LMS датафрейм сохранен в переменную `df`, колонка `date` прочитана как дата. Загрузите в LMS Ваш код, в котором создаете колонку `true_minute`. Код с построением графика копировать в LMS не нужно**"
   ]
  },
  {
   "cell_type": "markdown",
   "metadata": {
    "id": "ziNEU9M5v-od"
   },
   "source": [
    "Шаги выполнения:  \n",
    "1. Подсчитайте правильное количество минут, учтя в том числе количество часов, прошедших с начала дня. Результаты сохраните в новой колонке `true_minute`"
   ]
  },
  {
   "cell_type": "markdown",
   "metadata": {
    "id": "1CTIFNi4v-oe"
   },
   "source": [
    "<details>\n",
    "<summary>&#9658; Нажмите сюда, чтобы увидеть подсказку</summary>\n",
    "  <p>\n",
    "\n",
    "**Сложите число минут и число часов, умноженное на 60 (чтобы перевести часы в минуты)**.\n",
    "      \n",
    "**Чтобы получить число минут,** используйте аксессор `dt` и укажите период `minute`.\n",
    "\n",
    "**Чтобы получить число часов,** используйте аксессор `dt` и укажите период `hour`.\n",
    "\n",
    "Например:\n",
    "```python\n",
    "df.col_datetime.dt.day\n",
    "```    \n",
    "вернет номера дней в колонке `col_datetime` с типом данных datetime\n",
    "      \n",
    "**Колонка `date` должна иметь тип `datetime`**.  \n",
    "</p>\n",
    "</details>"
   ]
  },
  {
   "cell_type": "code",
   "execution_count": 95,
   "metadata": {
    "id": "IIPHFG3Jv-oe"
   },
   "outputs": [],
   "source": [
    "# Ваш код здесь\n",
    "\n"
   ]
  },
  {
   "cell_type": "markdown",
   "metadata": {
    "id": "eCSebCfhv-of"
   },
   "source": [
    "2. Постройте гистограмму распределения количества транзакций по минутам, прошедшим с начала дня"
   ]
  },
  {
   "cell_type": "markdown",
   "metadata": {
    "id": "A4Tk4cVPv-of"
   },
   "source": [
    "<details>\n",
    "<summary>&#9658; Нажмите сюда, чтобы увидеть подсказку</summary>\n",
    "  <p>\n",
    "\n",
    "Передайте в функцию `sns.displot()` следующие параметры:  \n",
    "      `data` — датафрейм с данными  \n",
    "      `x` — название колонки из этого датафрейма (`true_minute`) с числом минут, прошедшим с начала дня\n",
    "      \n",
    "Например:      \n",
    "```python\n",
    "sns.displot(data=df, x='col_name')\n",
    "```\n",
    "построит гистограмму на основе данных из колонки `col_name` датафрейма `df`.\n",
    "</p>\n",
    "</details>"
   ]
  },
  {
   "cell_type": "code",
   "execution_count": 96,
   "metadata": {
    "id": "3RjJB-B4v-of"
   },
   "outputs": [],
   "source": [
    "# Ваш код здесь\n",
    "\n"
   ]
  },
  {
   "cell_type": "markdown",
   "metadata": {
    "id": "oLVrbvLrv-of"
   },
   "source": [
    "3. Скопируйте и загрузите в LMS ваш код с первого шага выполнения — в котором создаете колонку `true_minute`"
   ]
  },
  {
   "cell_type": "markdown",
   "metadata": {
    "id": "LiCocIHIv-og"
   },
   "source": [
    "**Решение**"
   ]
  },
  {
   "cell_type": "code",
   "execution_count": 97,
   "metadata": {
    "id": "DVPVgGa1v-og"
   },
   "outputs": [],
   "source": [
    "df['true_minute'] = df.date.dt.minute + df.date.dt.hour * 60"
   ]
  },
  {
   "cell_type": "code",
   "execution_count": 98,
   "metadata": {
    "id": "soJ-i8rZv-og",
    "outputId": "379460f5-47e4-4d05-ec39-83bea246b812"
   },
   "outputs": [
    {
     "data": {
      "text/html": [
       "<div>\n",
       "<style scoped>\n",
       "    .dataframe tbody tr th:only-of-type {\n",
       "        vertical-align: middle;\n",
       "    }\n",
       "\n",
       "    .dataframe tbody tr th {\n",
       "        vertical-align: top;\n",
       "    }\n",
       "\n",
       "    .dataframe thead th {\n",
       "        text-align: right;\n",
       "    }\n",
       "</style>\n",
       "<table border=\"1\" class=\"dataframe\">\n",
       "  <thead>\n",
       "    <tr style=\"text-align: right;\">\n",
       "      <th></th>\n",
       "      <th>date</th>\n",
       "      <th>name</th>\n",
       "      <th>transaction</th>\n",
       "      <th>minute</th>\n",
       "      <th>true_minute</th>\n",
       "    </tr>\n",
       "  </thead>\n",
       "  <tbody>\n",
       "    <tr>\n",
       "      <th>0</th>\n",
       "      <td>2020-03-02 00:37:20</td>\n",
       "      <td>Ekaterina_Petrova</td>\n",
       "      <td>cancelled</td>\n",
       "      <td>37</td>\n",
       "      <td>37</td>\n",
       "    </tr>\n",
       "    <tr>\n",
       "      <th>1</th>\n",
       "      <td>2020-03-02 00:59:09</td>\n",
       "      <td>Irina_Fedorova</td>\n",
       "      <td>successfull</td>\n",
       "      <td>59</td>\n",
       "      <td>59</td>\n",
       "    </tr>\n",
       "    <tr>\n",
       "      <th>2</th>\n",
       "      <td>2020-03-02 01:06:14</td>\n",
       "      <td>Ekaterina_Smirnova</td>\n",
       "      <td>successfull</td>\n",
       "      <td>6</td>\n",
       "      <td>66</td>\n",
       "    </tr>\n",
       "    <tr>\n",
       "      <th>3</th>\n",
       "      <td>2020-03-02 00:02:58</td>\n",
       "      <td>Lolita_Polyanova</td>\n",
       "      <td>cancelled</td>\n",
       "      <td>2</td>\n",
       "      <td>2</td>\n",
       "    </tr>\n",
       "    <tr>\n",
       "      <th>4</th>\n",
       "      <td>2020-03-02 00:17:52</td>\n",
       "      <td>Julia_Smirnova</td>\n",
       "      <td>cancelled</td>\n",
       "      <td>17</td>\n",
       "      <td>17</td>\n",
       "    </tr>\n",
       "  </tbody>\n",
       "</table>\n",
       "</div>"
      ],
      "text/plain": [
       "                 date                name  transaction  minute  true_minute\n",
       "0 2020-03-02 00:37:20   Ekaterina_Petrova    cancelled      37           37\n",
       "1 2020-03-02 00:59:09      Irina_Fedorova  successfull      59           59\n",
       "2 2020-03-02 01:06:14  Ekaterina_Smirnova  successfull       6           66\n",
       "3 2020-03-02 00:02:58    Lolita_Polyanova    cancelled       2            2\n",
       "4 2020-03-02 00:17:52      Julia_Smirnova    cancelled      17           17"
      ]
     },
     "execution_count": 98,
     "metadata": {},
     "output_type": "execute_result"
    }
   ],
   "source": [
    "df.head()"
   ]
  },
  {
   "cell_type": "code",
   "execution_count": 99,
   "metadata": {
    "id": "2ndf2pUAv-oh",
    "outputId": "d0af2fcd-88f1-48e5-a41a-f21f2d909d93"
   },
   "outputs": [
    {
     "data": {
      "text/plain": [
       "<seaborn.axisgrid.FacetGrid at 0x7fa6835a37b8>"
      ]
     },
     "execution_count": 99,
     "metadata": {},
     "output_type": "execute_result"
    },
    {
     "data": {
      "image/png": "[encoded data removed]",
      "text/plain": [
       "<Figure size 360x360 with 1 Axes>"
      ]
     },
     "metadata": {
      "needs_background": "light"
     },
     "output_type": "display_data"
    }
   ],
   "source": [
    "sns.displot(data=df, x='true_minute')"
   ]
  },
  {
   "cell_type": "markdown",
   "metadata": {
    "id": "Lob3f1mov-oh"
   },
   "source": [
    "**Код для отправки в LMS:**\n",
    "\n",
    "```\n",
    "df['true_minute'] = df.date.dt.minute + df.date.dt.hour * 60\n",
    "```"
   ]
  },
  {
   "cell_type": "markdown",
   "metadata": {
    "id": "ZDlsizQqv-oh"
   },
   "source": [
    "## Итоги"
   ]
  },
  {
   "cell_type": "markdown",
   "metadata": {
    "id": "_a0jmAO9v-oh"
   },
   "source": [
    "В этом уроке вы проанализировали несколько наборов данных о транзакциях и научились подготавливать данные к анализу, удалять дубликаты и другие лишние данные, определять, какие данные нужно оставить, а в каких есть ошибка, заполнять пропуски, строить сводные таблицы и корректные графики."
   ]
  }
 ],
 "metadata": {
  "colab": {
   "provenance": []
  },
  "kernelspec": {
   "display_name": "Python 3",
   "language": "python",
   "name": "python3"
  },
  "language_info": {
   "codemirror_mode": {
    "name": "ipython",
    "version": 3
   },
   "file_extension": ".py",
   "mimetype": "text/x-python",
   "name": "python",
   "nbconvert_exporter": "python",
   "pygments_lexer": "ipython3",
   "version": "3.7.3"
  }
 },
 "nbformat": 4,
 "nbformat_minor": 1
}
